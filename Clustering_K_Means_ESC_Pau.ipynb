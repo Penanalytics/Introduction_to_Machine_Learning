{
 "cells": [
  {
   "cell_type": "code",
   "execution_count": null,
   "metadata": {
    "slideshow": {
     "slide_type": "slide"
    }
   },
   "outputs": [],
   "source": [
    "#Import key libraries\n",
    "import numpy as np\n",
    "import pandas as pd\n",
    "import matplotlib.pyplot as plt\n",
    "import seaborn as sns\n",
    "import scipy as sp\n",
    "%matplotlib inline\n",
    "\n",
    "\n"
   ]
  },
  {
   "cell_type": "code",
   "execution_count": null,
   "metadata": {},
   "outputs": [],
   "source": [
    "from sklearn.cluster import KMeans"
   ]
  },
  {
   "cell_type": "code",
   "execution_count": null,
   "metadata": {
    "slideshow": {
     "slide_type": "slide"
    }
   },
   "outputs": [],
   "source": [
    "#J'importe mon jeu de données.Il s'agit ici d'un jeu de données e-commerce importé depuis mon ordinateur (pas depuis sklearn)\n",
    "GA = pd.read_csv (r\"C:\\Users\\penel\\OneDrive\\Documents\\DATA SCIENCE GA COURSE\\DATASETS\\GA_Dataset_ 130318_V8.csv\")"
   ]
  },
  {
   "cell_type": "code",
   "execution_count": null,
   "metadata": {
    "slideshow": {
     "slide_type": "slide"
    }
   },
   "outputs": [],
   "source": [
    "#Regardons à quoi ressemble le jeu de données en question.\n",
    "#Vous remarquerez que des données qualitatives ont été transformées en données quantitatives, par ex: session time of day is PM etc...\n",
    "#Sachez que cette manipulation est possible et utile mais ca n'est pas qqchose que nous aurons le temps d'étudier en detail.\n",
    "GA.head()"
   ]
  },
  {
   "cell_type": "code",
   "execution_count": null,
   "metadata": {
    "slideshow": {
     "slide_type": "slide"
    }
   },
   "outputs": [],
   "source": [
    "#Quelle est la taille du jeu de données?\n",
    "#Ici, nous avons 200 rangées et 48 colonnes.\n",
    "GA.shape"
   ]
  },
  {
   "cell_type": "code",
   "execution_count": null,
   "metadata": {
    "slideshow": {
     "slide_type": "slide"
    }
   },
   "outputs": [],
   "source": [
    "#Ici, j'élimine mes données encodées (les données qualitatives qui ont été transformées en données quantitatives).\n",
    "#J'effectue cette étape de facon à rendre le travail d'interprétation plus facile.\n",
    "GA.drop(GA.iloc[:, 5:48], inplace= True, axis = 1)"
   ]
  },
  {
   "cell_type": "code",
   "execution_count": null,
   "metadata": {
    "slideshow": {
     "slide_type": "slide"
    }
   },
   "outputs": [],
   "source": [
    "#Ici, je vérifie que mes données encodées ont bien disparu.\n",
    "GA.head(3)"
   ]
  },
  {
   "cell_type": "code",
   "execution_count": null,
   "metadata": {
    "slideshow": {
     "slide_type": "slide"
    }
   },
   "outputs": [],
   "source": [
    "#Ici, je vérifie la nouvelle taille de mon jeu de données.\n",
    "GA.shape"
   ]
  },
  {
   "cell_type": "code",
   "execution_count": null,
   "metadata": {
    "slideshow": {
     "slide_type": "slide"
    }
   },
   "outputs": [],
   "source": [
    "#Ici, je vérifie que je n'ai pas de données manquantes.\n",
    "GA.isnull().sum()"
   ]
  },
  {
   "cell_type": "code",
   "execution_count": null,
   "metadata": {
    "slideshow": {
     "slide_type": "skip"
    }
   },
   "outputs": [],
   "source": [
    "GA.dtypes"
   ]
  },
  {
   "cell_type": "code",
   "execution_count": null,
   "metadata": {},
   "outputs": [],
   "source": [
    "print (GA.columns)"
   ]
  },
  {
   "cell_type": "code",
   "execution_count": null,
   "metadata": {
    "slideshow": {
     "slide_type": "slide"
    }
   },
   "outputs": [],
   "source": [
    "GA.describe()\n",
    "#Ici, je sors les valeurs clés pour chacune de mes données. "
   ]
  },
  {
   "cell_type": "code",
   "execution_count": null,
   "metadata": {
    "slideshow": {
     "slide_type": "skip"
    }
   },
   "outputs": [],
   "source": [
    "X = GA.iloc[:,0:5]"
   ]
  },
  {
   "cell_type": "code",
   "execution_count": null,
   "metadata": {},
   "outputs": [],
   "source": [
    "X.head()"
   ]
  },
  {
   "cell_type": "code",
   "execution_count": null,
   "metadata": {
    "slideshow": {
     "slide_type": "slide"
    }
   },
   "outputs": [],
   "source": [
    "#Ici, je standardise mon jeu de données.\n",
    "from sklearn.preprocessing import normalize\n",
    "\n",
    "Xn = normalize(X)"
   ]
  },
  {
   "cell_type": "code",
   "execution_count": null,
   "metadata": {},
   "outputs": [],
   "source": [
    "Xn = pd.DataFrame(data=Xn,columns = ['Sessions over 3 months', 'Avg. Session Duration in mins', 'Revenue over 3 months', 'Transactions over 3 months', 'Acquisition date in days'])\n",
    "Xn.describe()"
   ]
  },
  {
   "cell_type": "code",
   "execution_count": null,
   "metadata": {},
   "outputs": [],
   "source": [
    "Xn.head()"
   ]
  },
  {
   "cell_type": "code",
   "execution_count": null,
   "metadata": {
    "slideshow": {
     "slide_type": "slide"
    }
   },
   "outputs": [],
   "source": [
    "from sklearn.cluster import KMeans\n",
    "\n",
    "# Ici, je crée 2 Clusters\n",
    "k_mean2 = KMeans(n_clusters=2)\n",
    "k_mean2.fit(Xn)"
   ]
  },
  {
   "cell_type": "code",
   "execution_count": null,
   "metadata": {
    "slideshow": {
     "slide_type": "slide"
    }
   },
   "outputs": [],
   "source": [
    "# Ici, 4 Clusters\n",
    "k_mean4 = KMeans(n_clusters=4)\n",
    "k_mean4.fit(Xn)"
   ]
  },
  {
   "cell_type": "code",
   "execution_count": null,
   "metadata": {
    "slideshow": {
     "slide_type": "slide"
    }
   },
   "outputs": [],
   "source": [
    "# Et ici, 6 Clusters\n",
    "k_mean6 = KMeans(n_clusters=6)\n",
    "k_mean6.fit(Xn)"
   ]
  },
  {
   "cell_type": "code",
   "execution_count": null,
   "metadata": {
    "slideshow": {
     "slide_type": "slide"
    }
   },
   "outputs": [],
   "source": [
    "#Ici, je sors la valeur du cluster (0,1) qui a été attribuée à chaque observation/rangée par K-Means.\n",
    "#J'imprime ensuite les coordonnées de mes 2 centroides.\n",
    "labels_2 = k_mean2.labels_\n",
    "print (labels_2)\n",
    "clusters_2 = k_mean2.cluster_centers_\n",
    "clusters_2"
   ]
  },
  {
   "cell_type": "code",
   "execution_count": null,
   "metadata": {
    "slideshow": {
     "slide_type": "slide"
    }
   },
   "outputs": [],
   "source": [
    "#Ici, je sors la valeur du cluster (0,1,2,3) qui a été attribuée à chaque observation/rangée par K-Means.\n",
    "#J'imprime ensuite les coordonnées de mes 4 centroides.\n",
    "labels_4 = k_mean4.labels_\n",
    "print (labels_4)\n",
    "clusters_4 = k_mean4.cluster_centers_\n",
    "clusters_4"
   ]
  },
  {
   "cell_type": "code",
   "execution_count": null,
   "metadata": {
    "slideshow": {
     "slide_type": "slide"
    }
   },
   "outputs": [],
   "source": [
    "#Ici, je sors la valeur du cluster (0,1,2,3,4,5) qui a été attribuée à chaque observation/rangée par K-Means.\n",
    "#J'imprime ensuite les coordonnées de mes 6 centroides.\n",
    "\n",
    "labels_6 = k_mean6.labels_\n",
    "print (labels_6)\n",
    "clusters_6 = k_mean6.cluster_centers_\n",
    "clusters_6"
   ]
  },
  {
   "cell_type": "code",
   "execution_count": null,
   "metadata": {
    "slideshow": {
     "slide_type": "slide"
    }
   },
   "outputs": [],
   "source": [
    "#Le score silhouette donne une indication de la performance/qualité du modele.\n",
    "#Plus le score est proche de 1, plus le modele est performant/intéressant car cela indique que les clusters ont été bien \"séparés\"\n",
    "from sklearn.metrics import silhouette_score"
   ]
  },
  {
   "cell_type": "code",
   "execution_count": null,
   "metadata": {
    "slideshow": {
     "slide_type": "slide"
    }
   },
   "outputs": [],
   "source": [
    "silhouette_score(Xn, labels_2)"
   ]
  },
  {
   "cell_type": "code",
   "execution_count": null,
   "metadata": {
    "slideshow": {
     "slide_type": "slide"
    }
   },
   "outputs": [],
   "source": [
    "silhouette_score(Xn, labels_4)"
   ]
  },
  {
   "cell_type": "code",
   "execution_count": null,
   "metadata": {
    "slideshow": {
     "slide_type": "slide"
    }
   },
   "outputs": [],
   "source": [
    "silhouette_score(Xn, labels_6)"
   ]
  },
  {
   "cell_type": "code",
   "execution_count": null,
   "metadata": {},
   "outputs": [],
   "source": [
    "#Ici je transforme ma dataframe Xn en numpy array/matrice pour pouvoir un code qui me permet de visualiser de facon précise.\n",
    "Xn1 = Xn.to_numpy()"
   ]
  },
  {
   "cell_type": "code",
   "execution_count": null,
   "metadata": {},
   "outputs": [],
   "source": [
    "plt.scatter(Xn1[:,0],Xn1[:,1], c=k_mean2.labels_, cmap='rainbow')\n",
    "plt.xlabel(\"Sessions over 3 months\")\n",
    "plt.ylabel(\"Avg. Session Duration in mins\")\n",
    "\n",
    "\n"
   ]
  },
  {
   "cell_type": "code",
   "execution_count": null,
   "metadata": {},
   "outputs": [],
   "source": [
    "#Ici, on ajoute les centroides en noir\n",
    "plt.scatter(Xn1[:,0],Xn1[:,1], c=k_mean2.labels_, cmap='rainbow')\n",
    "plt.scatter(clusters_2[:,0] ,clusters_2[:,1], color='black')\n",
    "plt.xlabel(\"Sessions over 3 months\")\n",
    "plt.ylabel(\"Avg. Session Duration in mins\")"
   ]
  },
  {
   "cell_type": "code",
   "execution_count": null,
   "metadata": {},
   "outputs": [],
   "source": [
    "#Visualisons avec 4 clusters\n",
    "plt.scatter(Xn1[:,0],Xn1[:,1], c=k_mean4.labels_, cmap='rainbow')\n",
    "plt.scatter(clusters_4[:,0] ,clusters_4[:,1], color='black')\n",
    "plt.xlabel(\"Sessions over 3 months\")\n",
    "plt.ylabel(\"Avg. Session Duration in mins\")"
   ]
  }
 ],
 "metadata": {
  "celltoolbar": "Slideshow",
  "kernelspec": {
   "display_name": "Python 3",
   "language": "python",
   "name": "python3"
  },
  "language_info": {
   "codemirror_mode": {
    "name": "ipython",
    "version": 3
   },
   "file_extension": ".py",
   "mimetype": "text/x-python",
   "name": "python",
   "nbconvert_exporter": "python",
   "pygments_lexer": "ipython3",
   "version": "3.6.9"
  }
 },
 "nbformat": 4,
 "nbformat_minor": 2
}
