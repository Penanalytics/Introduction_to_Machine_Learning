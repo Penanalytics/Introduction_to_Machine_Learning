{
 "cells": [
  {
   "cell_type": "code",
   "execution_count": 1,
   "metadata": {
    "slideshow": {
     "slide_type": "slide"
    }
   },
   "outputs": [],
   "source": [
    "#Import key libraries\n",
    "import numpy as np\n",
    "import pandas as pd\n",
    "import matplotlib.pyplot as plt\n",
    "import seaborn as sns\n",
    "import scipy as sp\n",
    "%matplotlib inline\n",
    "\n",
    "\n"
   ]
  },
  {
   "cell_type": "code",
   "execution_count": 2,
   "metadata": {},
   "outputs": [],
   "source": [
    "from sklearn.cluster import KMeans"
   ]
  },
  {
   "cell_type": "code",
   "execution_count": 3,
   "metadata": {
    "slideshow": {
     "slide_type": "slide"
    }
   },
   "outputs": [],
   "source": [
    "#J'importe mon jeu de données.Il s'agit ici d'un jeu de données e-commerce importé depuis mon ordinateur (pas depuis sklearn)\n",
    "GA = pd.read_csv (r\"C:\\Users\\penel\\OneDrive\\Documents\\DATA SCIENCE GA COURSE\\DATASETS\\GA_Dataset_ 130318_V8.csv\")"
   ]
  },
  {
   "cell_type": "code",
   "execution_count": 4,
   "metadata": {
    "slideshow": {
     "slide_type": "slide"
    }
   },
   "outputs": [
    {
     "data": {
      "text/html": [
       "<div>\n",
       "<style scoped>\n",
       "    .dataframe tbody tr th:only-of-type {\n",
       "        vertical-align: middle;\n",
       "    }\n",
       "\n",
       "    .dataframe tbody tr th {\n",
       "        vertical-align: top;\n",
       "    }\n",
       "\n",
       "    .dataframe thead th {\n",
       "        text-align: right;\n",
       "    }\n",
       "</style>\n",
       "<table border=\"1\" class=\"dataframe\">\n",
       "  <thead>\n",
       "    <tr style=\"text-align: right;\">\n",
       "      <th></th>\n",
       "      <th>Sessions over 3 months</th>\n",
       "      <th>Avg. Session Duration in mins</th>\n",
       "      <th>Revenue over 3 months</th>\n",
       "      <th>Transactions over 3 months</th>\n",
       "      <th>Acquisition date in days</th>\n",
       "      <th>Session revenue</th>\n",
       "      <th>Session Time of day is Evening</th>\n",
       "      <th>Session Time of day is PM</th>\n",
       "      <th>Session Time of day is night</th>\n",
       "      <th>Session Time of day is Morning</th>\n",
       "      <th>...</th>\n",
       "      <th>FT is Paid Search</th>\n",
       "      <th>FT is Affiliates</th>\n",
       "      <th>Session Channel is Direct</th>\n",
       "      <th>Session Channel is Social</th>\n",
       "      <th>Session Channel is Referrals</th>\n",
       "      <th>Session Channel is Display</th>\n",
       "      <th>Session Channel is Paid Search</th>\n",
       "      <th>Session Channel is Affiliates</th>\n",
       "      <th>is Tablet</th>\n",
       "      <th>Is Mobile</th>\n",
       "    </tr>\n",
       "  </thead>\n",
       "  <tbody>\n",
       "    <tr>\n",
       "      <th>0</th>\n",
       "      <td>1</td>\n",
       "      <td>15.0</td>\n",
       "      <td>833.0</td>\n",
       "      <td>1</td>\n",
       "      <td>0</td>\n",
       "      <td>833.0</td>\n",
       "      <td>0</td>\n",
       "      <td>0</td>\n",
       "      <td>1</td>\n",
       "      <td>0</td>\n",
       "      <td>...</td>\n",
       "      <td>0</td>\n",
       "      <td>0</td>\n",
       "      <td>1</td>\n",
       "      <td>0</td>\n",
       "      <td>0</td>\n",
       "      <td>0</td>\n",
       "      <td>0</td>\n",
       "      <td>0</td>\n",
       "      <td>0</td>\n",
       "      <td>0</td>\n",
       "    </tr>\n",
       "    <tr>\n",
       "      <th>1</th>\n",
       "      <td>7</td>\n",
       "      <td>21.5</td>\n",
       "      <td>700.0</td>\n",
       "      <td>2</td>\n",
       "      <td>180</td>\n",
       "      <td>200.0</td>\n",
       "      <td>1</td>\n",
       "      <td>0</td>\n",
       "      <td>0</td>\n",
       "      <td>0</td>\n",
       "      <td>...</td>\n",
       "      <td>0</td>\n",
       "      <td>0</td>\n",
       "      <td>0</td>\n",
       "      <td>0</td>\n",
       "      <td>0</td>\n",
       "      <td>0</td>\n",
       "      <td>0</td>\n",
       "      <td>0</td>\n",
       "      <td>0</td>\n",
       "      <td>0</td>\n",
       "    </tr>\n",
       "    <tr>\n",
       "      <th>2</th>\n",
       "      <td>1</td>\n",
       "      <td>9.0</td>\n",
       "      <td>595.0</td>\n",
       "      <td>1</td>\n",
       "      <td>120</td>\n",
       "      <td>595.0</td>\n",
       "      <td>0</td>\n",
       "      <td>1</td>\n",
       "      <td>0</td>\n",
       "      <td>0</td>\n",
       "      <td>...</td>\n",
       "      <td>0</td>\n",
       "      <td>0</td>\n",
       "      <td>1</td>\n",
       "      <td>0</td>\n",
       "      <td>1</td>\n",
       "      <td>0</td>\n",
       "      <td>0</td>\n",
       "      <td>0</td>\n",
       "      <td>0</td>\n",
       "      <td>0</td>\n",
       "    </tr>\n",
       "    <tr>\n",
       "      <th>3</th>\n",
       "      <td>1</td>\n",
       "      <td>7.5</td>\n",
       "      <td>476.0</td>\n",
       "      <td>1</td>\n",
       "      <td>120</td>\n",
       "      <td>476.0</td>\n",
       "      <td>0</td>\n",
       "      <td>1</td>\n",
       "      <td>0</td>\n",
       "      <td>0</td>\n",
       "      <td>...</td>\n",
       "      <td>0</td>\n",
       "      <td>0</td>\n",
       "      <td>1</td>\n",
       "      <td>0</td>\n",
       "      <td>0</td>\n",
       "      <td>0</td>\n",
       "      <td>0</td>\n",
       "      <td>0</td>\n",
       "      <td>0</td>\n",
       "      <td>0</td>\n",
       "    </tr>\n",
       "    <tr>\n",
       "      <th>4</th>\n",
       "      <td>1</td>\n",
       "      <td>5.0</td>\n",
       "      <td>476.0</td>\n",
       "      <td>1</td>\n",
       "      <td>0</td>\n",
       "      <td>476.0</td>\n",
       "      <td>0</td>\n",
       "      <td>0</td>\n",
       "      <td>0</td>\n",
       "      <td>1</td>\n",
       "      <td>...</td>\n",
       "      <td>0</td>\n",
       "      <td>0</td>\n",
       "      <td>0</td>\n",
       "      <td>0</td>\n",
       "      <td>0</td>\n",
       "      <td>0</td>\n",
       "      <td>0</td>\n",
       "      <td>0</td>\n",
       "      <td>0</td>\n",
       "      <td>0</td>\n",
       "    </tr>\n",
       "  </tbody>\n",
       "</table>\n",
       "<p>5 rows × 48 columns</p>\n",
       "</div>"
      ],
      "text/plain": [
       "   Sessions over 3 months  Avg. Session Duration in mins  \\\n",
       "0                       1                           15.0   \n",
       "1                       7                           21.5   \n",
       "2                       1                            9.0   \n",
       "3                       1                            7.5   \n",
       "4                       1                            5.0   \n",
       "\n",
       "   Revenue over 3 months  Transactions over 3 months  \\\n",
       "0                  833.0                           1   \n",
       "1                  700.0                           2   \n",
       "2                  595.0                           1   \n",
       "3                  476.0                           1   \n",
       "4                  476.0                           1   \n",
       "\n",
       "   Acquisition date in days  Session revenue  Session Time of day is Evening  \\\n",
       "0                         0            833.0                               0   \n",
       "1                       180            200.0                               1   \n",
       "2                       120            595.0                               0   \n",
       "3                       120            476.0                               0   \n",
       "4                         0            476.0                               0   \n",
       "\n",
       "   Session Time of day is PM  Session Time of day is night  \\\n",
       "0                          0                             1   \n",
       "1                          0                             0   \n",
       "2                          1                             0   \n",
       "3                          1                             0   \n",
       "4                          0                             0   \n",
       "\n",
       "   Session Time of day is Morning  ...  FT is Paid Search  FT is Affiliates  \\\n",
       "0                               0  ...                  0                 0   \n",
       "1                               0  ...                  0                 0   \n",
       "2                               0  ...                  0                 0   \n",
       "3                               0  ...                  0                 0   \n",
       "4                               1  ...                  0                 0   \n",
       "\n",
       "   Session Channel is Direct  Session Channel is Social  \\\n",
       "0                          1                          0   \n",
       "1                          0                          0   \n",
       "2                          1                          0   \n",
       "3                          1                          0   \n",
       "4                          0                          0   \n",
       "\n",
       "   Session Channel is Referrals  Session Channel is Display  \\\n",
       "0                             0                           0   \n",
       "1                             0                           0   \n",
       "2                             1                           0   \n",
       "3                             0                           0   \n",
       "4                             0                           0   \n",
       "\n",
       "   Session Channel is Paid Search  Session Channel is Affiliates  is Tablet  \\\n",
       "0                               0                              0          0   \n",
       "1                               0                              0          0   \n",
       "2                               0                              0          0   \n",
       "3                               0                              0          0   \n",
       "4                               0                              0          0   \n",
       "\n",
       "   Is Mobile  \n",
       "0          0  \n",
       "1          0  \n",
       "2          0  \n",
       "3          0  \n",
       "4          0  \n",
       "\n",
       "[5 rows x 48 columns]"
      ]
     },
     "execution_count": 4,
     "metadata": {},
     "output_type": "execute_result"
    }
   ],
   "source": [
    "#Regardons à quoi ressemble le jeu de données en question.\n",
    "#Vous remarquerez que des données qualitatives ont été transformées en données quantitatives, par ex: session time of day is PM etc...\n",
    "#Sachez que cette manipulation est possible et utile mais ca n'est pas qqchose que nous aurons le temps d'étudier en detail.\n",
    "GA.head()"
   ]
  },
  {
   "cell_type": "code",
   "execution_count": 5,
   "metadata": {
    "slideshow": {
     "slide_type": "slide"
    }
   },
   "outputs": [
    {
     "data": {
      "text/plain": [
       "(200, 48)"
      ]
     },
     "execution_count": 5,
     "metadata": {},
     "output_type": "execute_result"
    }
   ],
   "source": [
    "#Quelle est la taille du jeu de données?\n",
    "#Ici, nous avons 200 rangées et 48 colonnes.\n",
    "GA.shape"
   ]
  },
  {
   "cell_type": "code",
   "execution_count": 6,
   "metadata": {
    "slideshow": {
     "slide_type": "slide"
    }
   },
   "outputs": [],
   "source": [
    "#Ici, j'élimine mes données encodées (les données qualitatives qui ont été transformées en données quantitatives).\n",
    "#J'effectue cette étape de facon à rendre le travail d'interprétation plus facile.\n",
    "GA.drop(GA.iloc[:, 5:48], inplace= True, axis = 1)"
   ]
  },
  {
   "cell_type": "code",
   "execution_count": 7,
   "metadata": {
    "slideshow": {
     "slide_type": "slide"
    }
   },
   "outputs": [
    {
     "data": {
      "text/html": [
       "<div>\n",
       "<style scoped>\n",
       "    .dataframe tbody tr th:only-of-type {\n",
       "        vertical-align: middle;\n",
       "    }\n",
       "\n",
       "    .dataframe tbody tr th {\n",
       "        vertical-align: top;\n",
       "    }\n",
       "\n",
       "    .dataframe thead th {\n",
       "        text-align: right;\n",
       "    }\n",
       "</style>\n",
       "<table border=\"1\" class=\"dataframe\">\n",
       "  <thead>\n",
       "    <tr style=\"text-align: right;\">\n",
       "      <th></th>\n",
       "      <th>Sessions over 3 months</th>\n",
       "      <th>Avg. Session Duration in mins</th>\n",
       "      <th>Revenue over 3 months</th>\n",
       "      <th>Transactions over 3 months</th>\n",
       "      <th>Acquisition date in days</th>\n",
       "    </tr>\n",
       "  </thead>\n",
       "  <tbody>\n",
       "    <tr>\n",
       "      <th>0</th>\n",
       "      <td>1</td>\n",
       "      <td>15.0</td>\n",
       "      <td>833.0</td>\n",
       "      <td>1</td>\n",
       "      <td>0</td>\n",
       "    </tr>\n",
       "    <tr>\n",
       "      <th>1</th>\n",
       "      <td>7</td>\n",
       "      <td>21.5</td>\n",
       "      <td>700.0</td>\n",
       "      <td>2</td>\n",
       "      <td>180</td>\n",
       "    </tr>\n",
       "    <tr>\n",
       "      <th>2</th>\n",
       "      <td>1</td>\n",
       "      <td>9.0</td>\n",
       "      <td>595.0</td>\n",
       "      <td>1</td>\n",
       "      <td>120</td>\n",
       "    </tr>\n",
       "  </tbody>\n",
       "</table>\n",
       "</div>"
      ],
      "text/plain": [
       "   Sessions over 3 months  Avg. Session Duration in mins  \\\n",
       "0                       1                           15.0   \n",
       "1                       7                           21.5   \n",
       "2                       1                            9.0   \n",
       "\n",
       "   Revenue over 3 months  Transactions over 3 months  Acquisition date in days  \n",
       "0                  833.0                           1                         0  \n",
       "1                  700.0                           2                       180  \n",
       "2                  595.0                           1                       120  "
      ]
     },
     "execution_count": 7,
     "metadata": {},
     "output_type": "execute_result"
    }
   ],
   "source": [
    "#Ici, je vérifie que mes données encodées ont bien disparu.\n",
    "GA.head(3)"
   ]
  },
  {
   "cell_type": "code",
   "execution_count": 8,
   "metadata": {
    "slideshow": {
     "slide_type": "slide"
    }
   },
   "outputs": [
    {
     "data": {
      "text/plain": [
       "(200, 5)"
      ]
     },
     "execution_count": 8,
     "metadata": {},
     "output_type": "execute_result"
    }
   ],
   "source": [
    "#Ici, je vérifie la nouvelle taille de mon jeu de données.\n",
    "GA.shape"
   ]
  },
  {
   "cell_type": "code",
   "execution_count": 9,
   "metadata": {
    "slideshow": {
     "slide_type": "slide"
    }
   },
   "outputs": [
    {
     "data": {
      "text/plain": [
       "Sessions over 3 months           0\n",
       "Avg. Session Duration in mins    0\n",
       "Revenue over 3 months            0\n",
       "Transactions over 3 months       0\n",
       "Acquisition date in days         0\n",
       "dtype: int64"
      ]
     },
     "execution_count": 9,
     "metadata": {},
     "output_type": "execute_result"
    }
   ],
   "source": [
    "#Ici, je vérifie que je n'ai pas de données manquantes.\n",
    "GA.isnull().sum()"
   ]
  },
  {
   "cell_type": "code",
   "execution_count": 10,
   "metadata": {
    "slideshow": {
     "slide_type": "skip"
    }
   },
   "outputs": [
    {
     "data": {
      "text/plain": [
       "Sessions over 3 months             int64\n",
       "Avg. Session Duration in mins    float64\n",
       "Revenue over 3 months            float64\n",
       "Transactions over 3 months         int64\n",
       "Acquisition date in days           int64\n",
       "dtype: object"
      ]
     },
     "execution_count": 10,
     "metadata": {},
     "output_type": "execute_result"
    }
   ],
   "source": [
    "GA.dtypes"
   ]
  },
  {
   "cell_type": "code",
   "execution_count": 11,
   "metadata": {},
   "outputs": [
    {
     "name": "stdout",
     "output_type": "stream",
     "text": [
      "Index(['Sessions over 3 months', 'Avg. Session Duration in mins',\n",
      "       'Revenue over 3 months', 'Transactions over 3 months',\n",
      "       'Acquisition date in days'],\n",
      "      dtype='object')\n"
     ]
    }
   ],
   "source": [
    "print (GA.columns)"
   ]
  },
  {
   "cell_type": "code",
   "execution_count": 12,
   "metadata": {
    "slideshow": {
     "slide_type": "slide"
    }
   },
   "outputs": [
    {
     "data": {
      "text/html": [
       "<div>\n",
       "<style scoped>\n",
       "    .dataframe tbody tr th:only-of-type {\n",
       "        vertical-align: middle;\n",
       "    }\n",
       "\n",
       "    .dataframe tbody tr th {\n",
       "        vertical-align: top;\n",
       "    }\n",
       "\n",
       "    .dataframe thead th {\n",
       "        text-align: right;\n",
       "    }\n",
       "</style>\n",
       "<table border=\"1\" class=\"dataframe\">\n",
       "  <thead>\n",
       "    <tr style=\"text-align: right;\">\n",
       "      <th></th>\n",
       "      <th>Sessions over 3 months</th>\n",
       "      <th>Avg. Session Duration in mins</th>\n",
       "      <th>Revenue over 3 months</th>\n",
       "      <th>Transactions over 3 months</th>\n",
       "      <th>Acquisition date in days</th>\n",
       "    </tr>\n",
       "  </thead>\n",
       "  <tbody>\n",
       "    <tr>\n",
       "      <th>count</th>\n",
       "      <td>200.00000</td>\n",
       "      <td>200.000000</td>\n",
       "      <td>200.000000</td>\n",
       "      <td>200.000000</td>\n",
       "      <td>200.000000</td>\n",
       "    </tr>\n",
       "    <tr>\n",
       "      <th>mean</th>\n",
       "      <td>1.36000</td>\n",
       "      <td>6.143250</td>\n",
       "      <td>39.019900</td>\n",
       "      <td>0.230000</td>\n",
       "      <td>6.910000</td>\n",
       "    </tr>\n",
       "    <tr>\n",
       "      <th>std</th>\n",
       "      <td>0.86843</td>\n",
       "      <td>9.042821</td>\n",
       "      <td>117.519427</td>\n",
       "      <td>0.456224</td>\n",
       "      <td>26.337811</td>\n",
       "    </tr>\n",
       "    <tr>\n",
       "      <th>min</th>\n",
       "      <td>1.00000</td>\n",
       "      <td>0.000000</td>\n",
       "      <td>0.000000</td>\n",
       "      <td>0.000000</td>\n",
       "      <td>0.000000</td>\n",
       "    </tr>\n",
       "    <tr>\n",
       "      <th>25%</th>\n",
       "      <td>1.00000</td>\n",
       "      <td>0.900000</td>\n",
       "      <td>0.000000</td>\n",
       "      <td>0.000000</td>\n",
       "      <td>0.000000</td>\n",
       "    </tr>\n",
       "    <tr>\n",
       "      <th>50%</th>\n",
       "      <td>1.00000</td>\n",
       "      <td>2.500000</td>\n",
       "      <td>0.000000</td>\n",
       "      <td>0.000000</td>\n",
       "      <td>0.000000</td>\n",
       "    </tr>\n",
       "    <tr>\n",
       "      <th>75%</th>\n",
       "      <td>1.00000</td>\n",
       "      <td>8.000000</td>\n",
       "      <td>0.000000</td>\n",
       "      <td>0.000000</td>\n",
       "      <td>0.000000</td>\n",
       "    </tr>\n",
       "    <tr>\n",
       "      <th>max</th>\n",
       "      <td>7.00000</td>\n",
       "      <td>60.000000</td>\n",
       "      <td>833.000000</td>\n",
       "      <td>2.000000</td>\n",
       "      <td>180.000000</td>\n",
       "    </tr>\n",
       "  </tbody>\n",
       "</table>\n",
       "</div>"
      ],
      "text/plain": [
       "       Sessions over 3 months  Avg. Session Duration in mins  \\\n",
       "count               200.00000                     200.000000   \n",
       "mean                  1.36000                       6.143250   \n",
       "std                   0.86843                       9.042821   \n",
       "min                   1.00000                       0.000000   \n",
       "25%                   1.00000                       0.900000   \n",
       "50%                   1.00000                       2.500000   \n",
       "75%                   1.00000                       8.000000   \n",
       "max                   7.00000                      60.000000   \n",
       "\n",
       "       Revenue over 3 months  Transactions over 3 months  \\\n",
       "count             200.000000                  200.000000   \n",
       "mean               39.019900                    0.230000   \n",
       "std               117.519427                    0.456224   \n",
       "min                 0.000000                    0.000000   \n",
       "25%                 0.000000                    0.000000   \n",
       "50%                 0.000000                    0.000000   \n",
       "75%                 0.000000                    0.000000   \n",
       "max               833.000000                    2.000000   \n",
       "\n",
       "       Acquisition date in days  \n",
       "count                200.000000  \n",
       "mean                   6.910000  \n",
       "std                   26.337811  \n",
       "min                    0.000000  \n",
       "25%                    0.000000  \n",
       "50%                    0.000000  \n",
       "75%                    0.000000  \n",
       "max                  180.000000  "
      ]
     },
     "execution_count": 12,
     "metadata": {},
     "output_type": "execute_result"
    }
   ],
   "source": [
    "GA.describe()\n",
    "#Ici, je sors les valeurs clés pour chacune de mes données. "
   ]
  },
  {
   "cell_type": "code",
   "execution_count": 13,
   "metadata": {
    "slideshow": {
     "slide_type": "skip"
    }
   },
   "outputs": [],
   "source": [
    "X = GA.iloc[:,0:5]"
   ]
  },
  {
   "cell_type": "code",
   "execution_count": 14,
   "metadata": {},
   "outputs": [
    {
     "data": {
      "text/html": [
       "<div>\n",
       "<style scoped>\n",
       "    .dataframe tbody tr th:only-of-type {\n",
       "        vertical-align: middle;\n",
       "    }\n",
       "\n",
       "    .dataframe tbody tr th {\n",
       "        vertical-align: top;\n",
       "    }\n",
       "\n",
       "    .dataframe thead th {\n",
       "        text-align: right;\n",
       "    }\n",
       "</style>\n",
       "<table border=\"1\" class=\"dataframe\">\n",
       "  <thead>\n",
       "    <tr style=\"text-align: right;\">\n",
       "      <th></th>\n",
       "      <th>Sessions over 3 months</th>\n",
       "      <th>Avg. Session Duration in mins</th>\n",
       "      <th>Revenue over 3 months</th>\n",
       "      <th>Transactions over 3 months</th>\n",
       "      <th>Acquisition date in days</th>\n",
       "    </tr>\n",
       "  </thead>\n",
       "  <tbody>\n",
       "    <tr>\n",
       "      <th>0</th>\n",
       "      <td>1</td>\n",
       "      <td>15.0</td>\n",
       "      <td>833.0</td>\n",
       "      <td>1</td>\n",
       "      <td>0</td>\n",
       "    </tr>\n",
       "    <tr>\n",
       "      <th>1</th>\n",
       "      <td>7</td>\n",
       "      <td>21.5</td>\n",
       "      <td>700.0</td>\n",
       "      <td>2</td>\n",
       "      <td>180</td>\n",
       "    </tr>\n",
       "    <tr>\n",
       "      <th>2</th>\n",
       "      <td>1</td>\n",
       "      <td>9.0</td>\n",
       "      <td>595.0</td>\n",
       "      <td>1</td>\n",
       "      <td>120</td>\n",
       "    </tr>\n",
       "    <tr>\n",
       "      <th>3</th>\n",
       "      <td>1</td>\n",
       "      <td>7.5</td>\n",
       "      <td>476.0</td>\n",
       "      <td>1</td>\n",
       "      <td>120</td>\n",
       "    </tr>\n",
       "    <tr>\n",
       "      <th>4</th>\n",
       "      <td>1</td>\n",
       "      <td>5.0</td>\n",
       "      <td>476.0</td>\n",
       "      <td>1</td>\n",
       "      <td>0</td>\n",
       "    </tr>\n",
       "  </tbody>\n",
       "</table>\n",
       "</div>"
      ],
      "text/plain": [
       "   Sessions over 3 months  Avg. Session Duration in mins  \\\n",
       "0                       1                           15.0   \n",
       "1                       7                           21.5   \n",
       "2                       1                            9.0   \n",
       "3                       1                            7.5   \n",
       "4                       1                            5.0   \n",
       "\n",
       "   Revenue over 3 months  Transactions over 3 months  Acquisition date in days  \n",
       "0                  833.0                           1                         0  \n",
       "1                  700.0                           2                       180  \n",
       "2                  595.0                           1                       120  \n",
       "3                  476.0                           1                       120  \n",
       "4                  476.0                           1                         0  "
      ]
     },
     "execution_count": 14,
     "metadata": {},
     "output_type": "execute_result"
    }
   ],
   "source": [
    "X.head()"
   ]
  },
  {
   "cell_type": "code",
   "execution_count": 15,
   "metadata": {
    "slideshow": {
     "slide_type": "slide"
    }
   },
   "outputs": [],
   "source": [
    "#Ici, je standardise mon jeu de données.\n",
    "from sklearn.preprocessing import normalize\n",
    "\n",
    "Xn = normalize(X)"
   ]
  },
  {
   "cell_type": "code",
   "execution_count": 19,
   "metadata": {},
   "outputs": [
    {
     "data": {
      "text/html": [
       "<div>\n",
       "<style scoped>\n",
       "    .dataframe tbody tr th:only-of-type {\n",
       "        vertical-align: middle;\n",
       "    }\n",
       "\n",
       "    .dataframe tbody tr th {\n",
       "        vertical-align: top;\n",
       "    }\n",
       "\n",
       "    .dataframe thead th {\n",
       "        text-align: right;\n",
       "    }\n",
       "</style>\n",
       "<table border=\"1\" class=\"dataframe\">\n",
       "  <thead>\n",
       "    <tr style=\"text-align: right;\">\n",
       "      <th></th>\n",
       "      <th>Sessions over 3 months</th>\n",
       "      <th>Avg. Session Duration in mins</th>\n",
       "      <th>Revenue over 3 months</th>\n",
       "      <th>Transactions over 3 months</th>\n",
       "      <th>Acquisition date in days</th>\n",
       "    </tr>\n",
       "  </thead>\n",
       "  <tbody>\n",
       "    <tr>\n",
       "      <th>count</th>\n",
       "      <td>200.000000</td>\n",
       "      <td>200.000000</td>\n",
       "      <td>200.000000</td>\n",
       "      <td>200.000000</td>\n",
       "      <td>200.000000</td>\n",
       "    </tr>\n",
       "    <tr>\n",
       "      <th>mean</th>\n",
       "      <td>0.427094</td>\n",
       "      <td>0.563969</td>\n",
       "      <td>0.180386</td>\n",
       "      <td>0.003834</td>\n",
       "      <td>0.068952</td>\n",
       "    </tr>\n",
       "    <tr>\n",
       "      <th>std</th>\n",
       "      <td>0.366050</td>\n",
       "      <td>0.377731</td>\n",
       "      <td>0.372683</td>\n",
       "      <td>0.013025</td>\n",
       "      <td>0.220925</td>\n",
       "    </tr>\n",
       "    <tr>\n",
       "      <th>min</th>\n",
       "      <td>0.001200</td>\n",
       "      <td>0.000000</td>\n",
       "      <td>0.000000</td>\n",
       "      <td>0.000000</td>\n",
       "      <td>0.000000</td>\n",
       "    </tr>\n",
       "    <tr>\n",
       "      <th>25%</th>\n",
       "      <td>0.061608</td>\n",
       "      <td>0.159924</td>\n",
       "      <td>0.000000</td>\n",
       "      <td>0.000000</td>\n",
       "      <td>0.000000</td>\n",
       "    </tr>\n",
       "    <tr>\n",
       "      <th>50%</th>\n",
       "      <td>0.316228</td>\n",
       "      <td>0.707107</td>\n",
       "      <td>0.000000</td>\n",
       "      <td>0.000000</td>\n",
       "      <td>0.000000</td>\n",
       "    </tr>\n",
       "    <tr>\n",
       "      <th>75%</th>\n",
       "      <td>0.743294</td>\n",
       "      <td>0.950558</td>\n",
       "      <td>0.000000</td>\n",
       "      <td>0.000000</td>\n",
       "      <td>0.000000</td>\n",
       "    </tr>\n",
       "    <tr>\n",
       "      <th>max</th>\n",
       "      <td>1.000000</td>\n",
       "      <td>0.999742</td>\n",
       "      <td>0.999940</td>\n",
       "      <td>0.119523</td>\n",
       "      <td>0.999965</td>\n",
       "    </tr>\n",
       "  </tbody>\n",
       "</table>\n",
       "</div>"
      ],
      "text/plain": [
       "       Sessions over 3 months  Avg. Session Duration in mins  \\\n",
       "count              200.000000                     200.000000   \n",
       "mean                 0.427094                       0.563969   \n",
       "std                  0.366050                       0.377731   \n",
       "min                  0.001200                       0.000000   \n",
       "25%                  0.061608                       0.159924   \n",
       "50%                  0.316228                       0.707107   \n",
       "75%                  0.743294                       0.950558   \n",
       "max                  1.000000                       0.999742   \n",
       "\n",
       "       Revenue over 3 months  Transactions over 3 months  \\\n",
       "count             200.000000                  200.000000   \n",
       "mean                0.180386                    0.003834   \n",
       "std                 0.372683                    0.013025   \n",
       "min                 0.000000                    0.000000   \n",
       "25%                 0.000000                    0.000000   \n",
       "50%                 0.000000                    0.000000   \n",
       "75%                 0.000000                    0.000000   \n",
       "max                 0.999940                    0.119523   \n",
       "\n",
       "       Acquisition date in days  \n",
       "count                200.000000  \n",
       "mean                   0.068952  \n",
       "std                    0.220925  \n",
       "min                    0.000000  \n",
       "25%                    0.000000  \n",
       "50%                    0.000000  \n",
       "75%                    0.000000  \n",
       "max                    0.999965  "
      ]
     },
     "execution_count": 19,
     "metadata": {},
     "output_type": "execute_result"
    }
   ],
   "source": [
    "Xn = pd.DataFrame(data=Xn,columns = ['Sessions over 3 months', 'Avg. Session Duration in mins', 'Revenue over 3 months', 'Transactions over 3 months', 'Acquisition date in days'])\n",
    "Xn.describe()"
   ]
  },
  {
   "cell_type": "code",
   "execution_count": 20,
   "metadata": {},
   "outputs": [
    {
     "data": {
      "text/html": [
       "<div>\n",
       "<style scoped>\n",
       "    .dataframe tbody tr th:only-of-type {\n",
       "        vertical-align: middle;\n",
       "    }\n",
       "\n",
       "    .dataframe tbody tr th {\n",
       "        vertical-align: top;\n",
       "    }\n",
       "\n",
       "    .dataframe thead th {\n",
       "        text-align: right;\n",
       "    }\n",
       "</style>\n",
       "<table border=\"1\" class=\"dataframe\">\n",
       "  <thead>\n",
       "    <tr style=\"text-align: right;\">\n",
       "      <th></th>\n",
       "      <th>Sessions over 3 months</th>\n",
       "      <th>Avg. Session Duration in mins</th>\n",
       "      <th>Revenue over 3 months</th>\n",
       "      <th>Transactions over 3 months</th>\n",
       "      <th>Acquisition date in days</th>\n",
       "    </tr>\n",
       "  </thead>\n",
       "  <tbody>\n",
       "    <tr>\n",
       "      <th>0</th>\n",
       "      <td>0.001200</td>\n",
       "      <td>0.018004</td>\n",
       "      <td>0.999836</td>\n",
       "      <td>0.001200</td>\n",
       "      <td>0.000000</td>\n",
       "    </tr>\n",
       "    <tr>\n",
       "      <th>1</th>\n",
       "      <td>0.009680</td>\n",
       "      <td>0.029732</td>\n",
       "      <td>0.968016</td>\n",
       "      <td>0.002766</td>\n",
       "      <td>0.248918</td>\n",
       "    </tr>\n",
       "    <tr>\n",
       "      <th>2</th>\n",
       "      <td>0.001647</td>\n",
       "      <td>0.014826</td>\n",
       "      <td>0.980152</td>\n",
       "      <td>0.001647</td>\n",
       "      <td>0.197678</td>\n",
       "    </tr>\n",
       "    <tr>\n",
       "      <th>3</th>\n",
       "      <td>0.002037</td>\n",
       "      <td>0.015276</td>\n",
       "      <td>0.969544</td>\n",
       "      <td>0.002037</td>\n",
       "      <td>0.244423</td>\n",
       "    </tr>\n",
       "    <tr>\n",
       "      <th>4</th>\n",
       "      <td>0.002101</td>\n",
       "      <td>0.010504</td>\n",
       "      <td>0.999940</td>\n",
       "      <td>0.002101</td>\n",
       "      <td>0.000000</td>\n",
       "    </tr>\n",
       "  </tbody>\n",
       "</table>\n",
       "</div>"
      ],
      "text/plain": [
       "   Sessions over 3 months  Avg. Session Duration in mins  \\\n",
       "0                0.001200                       0.018004   \n",
       "1                0.009680                       0.029732   \n",
       "2                0.001647                       0.014826   \n",
       "3                0.002037                       0.015276   \n",
       "4                0.002101                       0.010504   \n",
       "\n",
       "   Revenue over 3 months  Transactions over 3 months  Acquisition date in days  \n",
       "0               0.999836                    0.001200                  0.000000  \n",
       "1               0.968016                    0.002766                  0.248918  \n",
       "2               0.980152                    0.001647                  0.197678  \n",
       "3               0.969544                    0.002037                  0.244423  \n",
       "4               0.999940                    0.002101                  0.000000  "
      ]
     },
     "execution_count": 20,
     "metadata": {},
     "output_type": "execute_result"
    }
   ],
   "source": [
    "Xn.head()"
   ]
  },
  {
   "cell_type": "code",
   "execution_count": 21,
   "metadata": {
    "slideshow": {
     "slide_type": "slide"
    }
   },
   "outputs": [
    {
     "data": {
      "text/plain": [
       "KMeans(algorithm='auto', copy_x=True, init='k-means++', max_iter=300,\n",
       "    n_clusters=2, n_init=10, n_jobs=1, precompute_distances='auto',\n",
       "    random_state=None, tol=0.0001, verbose=0)"
      ]
     },
     "execution_count": 21,
     "metadata": {},
     "output_type": "execute_result"
    }
   ],
   "source": [
    "from sklearn.cluster import KMeans\n",
    "\n",
    "# Ici, je crée 2 Clusters\n",
    "k_mean2 = KMeans(n_clusters=2)\n",
    "k_mean2.fit(Xn)"
   ]
  },
  {
   "cell_type": "code",
   "execution_count": 22,
   "metadata": {
    "slideshow": {
     "slide_type": "slide"
    }
   },
   "outputs": [
    {
     "data": {
      "text/plain": [
       "KMeans(algorithm='auto', copy_x=True, init='k-means++', max_iter=300,\n",
       "    n_clusters=4, n_init=10, n_jobs=1, precompute_distances='auto',\n",
       "    random_state=None, tol=0.0001, verbose=0)"
      ]
     },
     "execution_count": 22,
     "metadata": {},
     "output_type": "execute_result"
    }
   ],
   "source": [
    "# Ici, 4 Clusters\n",
    "k_mean4 = KMeans(n_clusters=4)\n",
    "k_mean4.fit(Xn)"
   ]
  },
  {
   "cell_type": "code",
   "execution_count": 23,
   "metadata": {
    "slideshow": {
     "slide_type": "slide"
    }
   },
   "outputs": [
    {
     "data": {
      "text/plain": [
       "KMeans(algorithm='auto', copy_x=True, init='k-means++', max_iter=300,\n",
       "    n_clusters=6, n_init=10, n_jobs=1, precompute_distances='auto',\n",
       "    random_state=None, tol=0.0001, verbose=0)"
      ]
     },
     "execution_count": 23,
     "metadata": {},
     "output_type": "execute_result"
    }
   ],
   "source": [
    "# Et ici, 6 Clusters\n",
    "k_mean6 = KMeans(n_clusters=6)\n",
    "k_mean6.fit(Xn)"
   ]
  },
  {
   "cell_type": "code",
   "execution_count": 24,
   "metadata": {
    "slideshow": {
     "slide_type": "slide"
    }
   },
   "outputs": [
    {
     "name": "stdout",
     "output_type": "stream",
     "text": [
      "[0 0 0 0 0 0 0 0 0 0 0 0 0 0 0 0 0 0 0 0 0 0 0 0 0 0 0 0 0 0 0 0 0 0 0 0 0\n",
      " 0 0 1 1 1 1 1 1 1 1 1 1 1 1 1 1 1 1 1 0 1 1 1 1 1 1 1 1 1 1 1 1 1 1 1 1 1\n",
      " 1 1 1 1 1 1 1 1 1 1 1 1 1 1 1 1 1 1 1 1 1 1 1 1 1 1 1 1 1 1 1 1 1 1 1 1 1\n",
      " 1 1 1 1 1 1 1 1 0 1 1 1 1 1 1 1 1 1 1 1 1 1 1 0 1 1 1 1 1 1 1 1 1 1 1 1 1\n",
      " 1 1 1 1 1 1 1 1 1 1 1 1 1 1 1 1 1 1 1 1 0 1 1 1 1 1 1 1 1 1 1 1 0 1 1 1 1\n",
      " 1 1 1 1 1 1 1 1 1 1 1 1 1 1 1]\n"
     ]
    },
    {
     "data": {
      "text/plain": [
       "array([[2.54819894e-02, 1.37958042e-01, 8.17265163e-01, 1.10674336e-02,\n",
       "        2.21505955e-01],\n",
       "       [5.40368793e-01, 6.84126234e-01, 7.53821836e-04, 1.79375222e-03,\n",
       "        2.59234542e-02]])"
      ]
     },
     "execution_count": 24,
     "metadata": {},
     "output_type": "execute_result"
    }
   ],
   "source": [
    "#Ici, je sors la valeur du cluster (0,1) qui a été attribuée à chaque observation/rangée par K-Means.\n",
    "#J'imprime ensuite les coordonnées de mes 2 centroides.\n",
    "labels_2 = k_mean2.labels_\n",
    "print (labels_2)\n",
    "clusters_2 = k_mean2.cluster_centers_\n",
    "clusters_2"
   ]
  },
  {
   "cell_type": "code",
   "execution_count": 25,
   "metadata": {
    "slideshow": {
     "slide_type": "slide"
    }
   },
   "outputs": [
    {
     "name": "stdout",
     "output_type": "stream",
     "text": [
      "[2 2 2 2 2 2 2 2 2 2 2 2 2 2 2 2 2 2 2 2 2 2 2 2 2 2 2 2 2 2 2 0 2 3 2 2 0\n",
      " 2 2 0 1 1 3 1 1 1 1 1 3 1 1 1 1 1 3 1 0 1 1 1 3 1 1 1 3 3 1 3 1 3 1 3 3 3\n",
      " 1 3 3 3 3 3 1 3 3 1 3 3 1 3 1 3 3 1 3 1 1 1 3 1 1 1 1 1 3 1 1 3 1 3 1 1 1\n",
      " 3 3 1 1 3 3 1 3 0 3 1 3 3 3 3 3 3 3 3 3 1 3 3 0 3 1 3 3 3 3 3 1 1 3 3 3 3\n",
      " 3 3 1 1 3 3 1 1 3 3 1 1 3 0 0 1 1 1 1 1 0 3 1 3 3 3 3 1 1 1 3 3 0 1 1 3 3\n",
      " 1 3 0 3 1 1 3 1 1 3 1 1 1 3 3]\n"
     ]
    },
    {
     "data": {
      "text/plain": [
       "array([[ 1.27557475e-01,  2.27819990e-01,  7.17366798e-02,\n",
       "         1.68968640e-02,  9.10678425e-01],\n",
       "       [ 8.54258551e-01,  4.22076712e-01, -1.66533454e-16,\n",
       "         3.03576608e-18,  5.96284794e-03],\n",
       "       [ 1.55554170e-02,  1.25981335e-01,  9.63389346e-01,\n",
       "         1.22357815e-02,  8.52765362e-02],\n",
       "       [ 2.48541292e-01,  9.49958268e-01,  7.77107010e-03,\n",
       "         1.80049724e-03,  3.27806780e-03]])"
      ]
     },
     "execution_count": 25,
     "metadata": {},
     "output_type": "execute_result"
    }
   ],
   "source": [
    "#Ici, je sors la valeur du cluster (0,1,2,3) qui a été attribuée à chaque observation/rangée par K-Means.\n",
    "#J'imprime ensuite les coordonnées de mes 4 centroides.\n",
    "labels_4 = k_mean4.labels_\n",
    "print (labels_4)\n",
    "clusters_4 = k_mean4.cluster_centers_\n",
    "clusters_4"
   ]
  },
  {
   "cell_type": "code",
   "execution_count": 26,
   "metadata": {
    "slideshow": {
     "slide_type": "slide"
    }
   },
   "outputs": [
    {
     "name": "stdout",
     "output_type": "stream",
     "text": [
      "[2 2 2 2 2 2 2 2 2 2 2 2 2 2 2 2 2 2 2 2 2 2 2 2 2 2 2 2 2 2 2 4 2 0 2 2 4\n",
      " 2 2 4 5 5 0 5 1 5 5 3 0 5 5 1 3 5 0 1 4 3 5 5 0 3 5 1 3 0 5 0 3 0 1 3 0 0\n",
      " 1 0 0 3 0 0 3 0 0 5 0 3 5 3 5 3 0 3 0 3 5 3 3 1 1 1 1 5 0 5 5 0 5 0 5 5 3\n",
      " 0 0 1 1 0 0 3 0 4 0 5 0 3 0 0 3 0 3 0 3 1 0 0 4 0 1 3 3 0 0 3 1 3 0 0 0 0\n",
      " 0 0 3 3 0 0 3 3 0 0 1 3 0 4 4 3 5 3 5 5 4 3 3 3 0 0 3 3 1 1 0 0 4 1 3 0 0\n",
      " 3 0 4 0 1 3 0 3 3 0 1 3 3 0 0]\n"
     ]
    },
    {
     "data": {
      "text/plain": [
       "array([[ 1.78122653e-01,  9.74120531e-01,  9.93677816e-03,\n",
       "         2.30227516e-03,  4.19162768e-03],\n",
       "       [ 8.86676242e-01,  4.59568830e-01,  5.55111512e-17,\n",
       "        -8.67361738e-19, -2.77555756e-17],\n",
       "       [ 1.55554170e-02,  1.25981335e-01,  9.63389346e-01,\n",
       "         1.22357815e-02,  8.52765362e-02],\n",
       "       [ 6.27635179e-01,  7.67092566e-01, -8.32667268e-17,\n",
       "         2.16840434e-18,  2.77555756e-17],\n",
       "       [ 1.27557475e-01,  2.27819990e-01,  7.17366798e-02,\n",
       "         1.68968640e-02,  9.10678425e-01],\n",
       "       [ 9.89474849e-01,  8.31167329e-02,  2.77555756e-17,\n",
       "        -1.30104261e-18,  1.72005229e-02]])"
      ]
     },
     "execution_count": 26,
     "metadata": {},
     "output_type": "execute_result"
    }
   ],
   "source": [
    "#Ici, je sors la valeur du cluster (0,1,2,3,4,5) qui a été attribuée à chaque observation/rangée par K-Means.\n",
    "#J'imprime ensuite les coordonnées de mes 6 centroides.\n",
    "\n",
    "labels_6 = k_mean6.labels_\n",
    "print (labels_6)\n",
    "clusters_6 = k_mean6.cluster_centers_\n",
    "clusters_6"
   ]
  },
  {
   "cell_type": "code",
   "execution_count": 27,
   "metadata": {
    "slideshow": {
     "slide_type": "slide"
    }
   },
   "outputs": [],
   "source": [
    "#Le score silhouette donne une indication de la performance/qualité du modele.\n",
    "#Plus le score est proche de 1, plus le modele est performant/intéressant car cela indique que les clusters ont été bien \"séparés\"\n",
    "from sklearn.metrics import silhouette_score"
   ]
  },
  {
   "cell_type": "code",
   "execution_count": 28,
   "metadata": {
    "slideshow": {
     "slide_type": "slide"
    }
   },
   "outputs": [
    {
     "data": {
      "text/plain": [
       "0.5691153235608115"
      ]
     },
     "execution_count": 28,
     "metadata": {},
     "output_type": "execute_result"
    }
   ],
   "source": [
    "silhouette_score(Xn, labels_2)"
   ]
  },
  {
   "cell_type": "code",
   "execution_count": 29,
   "metadata": {
    "slideshow": {
     "slide_type": "slide"
    }
   },
   "outputs": [
    {
     "data": {
      "text/plain": [
       "0.6514218760577131"
      ]
     },
     "execution_count": 29,
     "metadata": {},
     "output_type": "execute_result"
    }
   ],
   "source": [
    "silhouette_score(Xn, labels_4)"
   ]
  },
  {
   "cell_type": "code",
   "execution_count": 30,
   "metadata": {
    "slideshow": {
     "slide_type": "slide"
    }
   },
   "outputs": [
    {
     "data": {
      "text/plain": [
       "0.6852690184244494"
      ]
     },
     "execution_count": 30,
     "metadata": {},
     "output_type": "execute_result"
    }
   ],
   "source": [
    "silhouette_score(Xn, labels_6)"
   ]
  },
  {
   "cell_type": "code",
   "execution_count": 31,
   "metadata": {},
   "outputs": [],
   "source": [
    "#Ici je transforme ma dataframe Xn en numpy array/matrice pour pouvoir un code qui me permet de visualiser de facon précise.\n",
    "Xn1 = Xn.to_numpy()"
   ]
  },
  {
   "cell_type": "code",
   "execution_count": 32,
   "metadata": {},
   "outputs": [
    {
     "data": {
      "text/plain": [
       "Text(0,0.5,'Avg. Session Duration in mins')"
      ]
     },
     "execution_count": 32,
     "metadata": {},
     "output_type": "execute_result"
    },
    {
     "data": {
      "image/png": "[encoded data removed]",
      "text/plain": [
       "<Figure size 432x288 with 1 Axes>"
      ]
     },
     "metadata": {
      "needs_background": "light"
     },
     "output_type": "display_data"
    }
   ],
   "source": [
    "plt.scatter(Xn1[:,0],Xn1[:,1], c=k_mean2.labels_, cmap='rainbow')\n",
    "plt.xlabel(\"Sessions over 3 months\")\n",
    "plt.ylabel(\"Avg. Session Duration in mins\")\n",
    "\n",
    "\n"
   ]
  },
  {
   "cell_type": "code",
   "execution_count": 33,
   "metadata": {},
   "outputs": [
    {
     "data": {
      "text/plain": [
       "Text(0,0.5,'Avg. Session Duration in mins')"
      ]
     },
     "execution_count": 33,
     "metadata": {},
     "output_type": "execute_result"
    },
    {
     "data": {
      "image/png": "[encoded data removed]",
      "text/plain": [
       "<Figure size 432x288 with 1 Axes>"
      ]
     },
     "metadata": {
      "needs_background": "light"
     },
     "output_type": "display_data"
    }
   ],
   "source": [
    "#Ici, on ajoute les centroides en noir\n",
    "plt.scatter(Xn1[:,0],Xn1[:,1], c=k_mean2.labels_, cmap='rainbow')\n",
    "plt.scatter(clusters_2[:,0] ,clusters_2[:,1], color='black')\n",
    "plt.xlabel(\"Sessions over 3 months\")\n",
    "plt.ylabel(\"Avg. Session Duration in mins\")"
   ]
  },
  {
   "cell_type": "code",
   "execution_count": 34,
   "metadata": {},
   "outputs": [
    {
     "data": {
      "text/plain": [
       "Text(0,0.5,'Avg. Session Duration in mins')"
      ]
     },
     "execution_count": 34,
     "metadata": {},
     "output_type": "execute_result"
    },
    {
     "data": {
      "image/png": "[encoded data removed]",
      "text/plain": [
       "<Figure size 432x288 with 1 Axes>"
      ]
     },
     "metadata": {
      "needs_background": "light"
     },
     "output_type": "display_data"
    }
   ],
   "source": [
    "#Visualisons avec 4 clusters\n",
    "plt.scatter(Xn1[:,0],Xn1[:,1], c=k_mean4.labels_, cmap='rainbow')\n",
    "plt.scatter(clusters_4[:,0] ,clusters_4[:,1], color='black')\n",
    "plt.xlabel(\"Sessions over 3 months\")\n",
    "plt.ylabel(\"Avg. Session Duration in mins\")"
   ]
  }
 ],
 "metadata": {
  "celltoolbar": "Slideshow",
  "kernelspec": {
   "display_name": "Python 3",
   "language": "python",
   "name": "python3"
  },
  "language_info": {
   "codemirror_mode": {
    "name": "ipython",
    "version": 3
   },
   "file_extension": ".py",
   "mimetype": "text/x-python",
   "name": "python",
   "nbconvert_exporter": "python",
   "pygments_lexer": "ipython3",
   "version": "3.6.9"
  }
 },
 "nbformat": 4,
 "nbformat_minor": 2
}
