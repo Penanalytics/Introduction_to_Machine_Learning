{
 "cells": [
  {
   "cell_type": "markdown",
   "metadata": {},
   "source": [
    "   > ## Importation des librairies:"
   ]
  },
  {
   "cell_type": "code",
   "execution_count": 4,
   "metadata": {},
   "outputs": [],
   "source": [
    "import numpy as np\n",
    "import pandas as pd\n",
    "import matplotlib.pyplot as plt\n",
    "import seaborn as sns\n",
    "%matplotlib inline"
   ]
  },
  {
   "cell_type": "markdown",
   "metadata": {},
   "source": [
    "> ## Importation des algorithmes:"
   ]
  },
  {
   "cell_type": "code",
   "execution_count": 5,
   "metadata": {},
   "outputs": [],
   "source": [
    "from sklearn import datasets, linear_model #sklearn est une mine d'or pour faire du machine learning dans Python.\n",
    "from sklearn.metrics import mean_squared_error"
   ]
  },
  {
   "cell_type": "markdown",
   "metadata": {},
   "source": [
    "> ## Importation du jeu de donnees et description:"
   ]
  },
  {
   "cell_type": "code",
   "execution_count": 10,
   "metadata": {},
   "outputs": [],
   "source": [
    "#J'importe mon jeu de données.Il s'agit ici d'un jeu de données e-commerce importé depuis mon ordinateur (pas depuis sklearn)\n",
    "GA = pd.read_excel (r\"C:\\Users\\penel\\OneDrive\\Documents\\CLIENTS\\HE\\ESC PAU 2021\\ESC PAU 2021\\2021\\ML 2021\\JUPYTER NOTEBOOKS\\BDD Football.xlsx\")"
   ]
  },
  {
   "cell_type": "code",
   "execution_count": 11,
   "metadata": {},
   "outputs": [
    {
     "data": {
      "text/html": [
       "<div>\n",
       "<style scoped>\n",
       "    .dataframe tbody tr th:only-of-type {\n",
       "        vertical-align: middle;\n",
       "    }\n",
       "\n",
       "    .dataframe tbody tr th {\n",
       "        vertical-align: top;\n",
       "    }\n",
       "\n",
       "    .dataframe thead th {\n",
       "        text-align: right;\n",
       "    }\n",
       "</style>\n",
       "<table border=\"1\" class=\"dataframe\">\n",
       "  <thead>\n",
       "    <tr style=\"text-align: right;\">\n",
       "      <th></th>\n",
       "      <th>CLUB</th>\n",
       "      <th>Perf</th>\n",
       "      <th>Budget transfert</th>\n",
       "      <th>Joueurs formés club</th>\n",
       "      <th>Valeur club</th>\n",
       "      <th>Age équipe</th>\n",
       "      <th>Supporters</th>\n",
       "      <th>Prix équipe</th>\n",
       "    </tr>\n",
       "  </thead>\n",
       "  <tbody>\n",
       "    <tr>\n",
       "      <th>0</th>\n",
       "      <td>Real Madrid</td>\n",
       "      <td>380</td>\n",
       "      <td>956</td>\n",
       "      <td>0.076</td>\n",
       "      <td>1080</td>\n",
       "      <td>27.605000</td>\n",
       "      <td>0.731083</td>\n",
       "      <td>884.650</td>\n",
       "    </tr>\n",
       "    <tr>\n",
       "      <th>1</th>\n",
       "      <td>Bayern</td>\n",
       "      <td>318</td>\n",
       "      <td>722</td>\n",
       "      <td>0.180</td>\n",
       "      <td>915</td>\n",
       "      <td>26.863333</td>\n",
       "      <td>0.952655</td>\n",
       "      <td>753.242</td>\n",
       "    </tr>\n",
       "    <tr>\n",
       "      <th>2</th>\n",
       "      <td>Barcelone</td>\n",
       "      <td>314</td>\n",
       "      <td>813</td>\n",
       "      <td>0.190</td>\n",
       "      <td>1060</td>\n",
       "      <td>27.258333</td>\n",
       "      <td>0.713076</td>\n",
       "      <td>966.036</td>\n",
       "    </tr>\n",
       "    <tr>\n",
       "      <th>3</th>\n",
       "      <td>Atlético Madrid</td>\n",
       "      <td>236</td>\n",
       "      <td>409</td>\n",
       "      <td>0.130</td>\n",
       "      <td>863</td>\n",
       "      <td>26.426667</td>\n",
       "      <td>0.706702</td>\n",
       "      <td>749.860</td>\n",
       "    </tr>\n",
       "    <tr>\n",
       "      <th>4</th>\n",
       "      <td>Chelsea</td>\n",
       "      <td>225</td>\n",
       "      <td>765</td>\n",
       "      <td>0.307</td>\n",
       "      <td>845</td>\n",
       "      <td>26.438333</td>\n",
       "      <td>0.963210</td>\n",
       "      <td>863.146</td>\n",
       "    </tr>\n",
       "    <tr>\n",
       "      <th>5</th>\n",
       "      <td>Juventus</td>\n",
       "      <td>215</td>\n",
       "      <td>630</td>\n",
       "      <td>0.000</td>\n",
       "      <td>762</td>\n",
       "      <td>28.788333</td>\n",
       "      <td>0.877659</td>\n",
       "      <td>665.198</td>\n",
       "    </tr>\n",
       "    <tr>\n",
       "      <th>6</th>\n",
       "      <td>Manchester U</td>\n",
       "      <td>211</td>\n",
       "      <td>1350</td>\n",
       "      <td>0.307</td>\n",
       "      <td>800</td>\n",
       "      <td>24.831667</td>\n",
       "      <td>0.954727</td>\n",
       "      <td>720.210</td>\n",
       "    </tr>\n",
       "    <tr>\n",
       "      <th>7</th>\n",
       "      <td>PSG</td>\n",
       "      <td>205</td>\n",
       "      <td>1272</td>\n",
       "      <td>0.137</td>\n",
       "      <td>1010</td>\n",
       "      <td>26.741667</td>\n",
       "      <td>0.936830</td>\n",
       "      <td>823.210</td>\n",
       "    </tr>\n",
       "    <tr>\n",
       "      <th>8</th>\n",
       "      <td>Porto</td>\n",
       "      <td>190</td>\n",
       "      <td>262</td>\n",
       "      <td>0.160</td>\n",
       "      <td>271</td>\n",
       "      <td>27.046667</td>\n",
       "      <td>0.710887</td>\n",
       "      <td>264.616</td>\n",
       "    </tr>\n",
       "    <tr>\n",
       "      <th>9</th>\n",
       "      <td>Manchester City</td>\n",
       "      <td>188</td>\n",
       "      <td>1297</td>\n",
       "      <td>0.083</td>\n",
       "      <td>1290</td>\n",
       "      <td>27.118333</td>\n",
       "      <td>0.920061</td>\n",
       "      <td>963.140</td>\n",
       "    </tr>\n",
       "  </tbody>\n",
       "</table>\n",
       "</div>"
      ],
      "text/plain": [
       "              CLUB  Perf  Budget transfert  Joueurs formés club  Valeur club  \\\n",
       "0      Real Madrid   380               956                0.076         1080   \n",
       "1           Bayern   318               722                0.180          915   \n",
       "2        Barcelone   314               813                0.190         1060   \n",
       "3  Atlético Madrid   236               409                0.130          863   \n",
       "4          Chelsea   225               765                0.307          845   \n",
       "5         Juventus   215               630                0.000          762   \n",
       "6     Manchester U   211              1350                0.307          800   \n",
       "7              PSG   205              1272                0.137         1010   \n",
       "8            Porto   190               262                0.160          271   \n",
       "9  Manchester City   188              1297                0.083         1290   \n",
       "\n",
       "   Age équipe  Supporters  Prix équipe  \n",
       "0   27.605000    0.731083      884.650  \n",
       "1   26.863333    0.952655      753.242  \n",
       "2   27.258333    0.713076      966.036  \n",
       "3   26.426667    0.706702      749.860  \n",
       "4   26.438333    0.963210      863.146  \n",
       "5   28.788333    0.877659      665.198  \n",
       "6   24.831667    0.954727      720.210  \n",
       "7   26.741667    0.936830      823.210  \n",
       "8   27.046667    0.710887      264.616  \n",
       "9   27.118333    0.920061      963.140  "
      ]
     },
     "execution_count": 11,
     "metadata": {},
     "output_type": "execute_result"
    }
   ],
   "source": [
    "#Regardons à quoi ressemble le jeu de données en question.\n",
    "#Vous remarquerez que des données qualitatives ont été transformées en données quantitatives, par ex: session time of day is PM etc...\n",
    "#Sachez que cette manipulation est possible et utile mais ca n'est pas qqchose que nous aurons le temps d'étudier en detail.\n",
    "GA.head(10)"
   ]
  },
  {
   "cell_type": "code",
   "execution_count": 12,
   "metadata": {},
   "outputs": [
    {
     "data": {
      "text/plain": [
       "(25, 8)"
      ]
     },
     "execution_count": 12,
     "metadata": {},
     "output_type": "execute_result"
    }
   ],
   "source": [
    "#Quelle est la taille du jeu de données?\n",
    "#Ici, nous avons 200 rangées et 48 colonnes.\n",
    "GA.shape"
   ]
  },
  {
   "cell_type": "code",
   "execution_count": 13,
   "metadata": {},
   "outputs": [
    {
     "data": {
      "text/plain": [
       "CLUB                   0\n",
       "Perf                   0\n",
       "Budget transfert       0\n",
       "Joueurs formés club    0\n",
       "Valeur club            0\n",
       "Age équipe             0\n",
       "Supporters             0\n",
       "Prix équipe            0\n",
       "dtype: int64"
      ]
     },
     "execution_count": 13,
     "metadata": {},
     "output_type": "execute_result"
    }
   ],
   "source": [
    "#Ici, je vérifie que je n'ai pas de données manquantes.\n",
    "GA.isnull().sum()"
   ]
  },
  {
   "cell_type": "code",
   "execution_count": 14,
   "metadata": {},
   "outputs": [
    {
     "data": {
      "text/plain": [
       "CLUB                    object\n",
       "Perf                     int64\n",
       "Budget transfert         int64\n",
       "Joueurs formés club    float64\n",
       "Valeur club              int64\n",
       "Age équipe             float64\n",
       "Supporters             float64\n",
       "Prix équipe            float64\n",
       "dtype: object"
      ]
     },
     "execution_count": 14,
     "metadata": {},
     "output_type": "execute_result"
    }
   ],
   "source": [
    "GA.dtypes"
   ]
  },
  {
   "cell_type": "code",
   "execution_count": 15,
   "metadata": {},
   "outputs": [
    {
     "name": "stdout",
     "output_type": "stream",
     "text": [
      "Index(['CLUB', 'Perf', 'Budget transfert', 'Joueurs formés club',\n",
      "       'Valeur club', 'Age équipe', 'Supporters', 'Prix équipe'],\n",
      "      dtype='object')\n"
     ]
    }
   ],
   "source": [
    "print (GA.columns)"
   ]
  },
  {
   "cell_type": "code",
   "execution_count": 16,
   "metadata": {
    "scrolled": false
   },
   "outputs": [
    {
     "data": {
      "text/html": [
       "<div>\n",
       "<style scoped>\n",
       "    .dataframe tbody tr th:only-of-type {\n",
       "        vertical-align: middle;\n",
       "    }\n",
       "\n",
       "    .dataframe tbody tr th {\n",
       "        vertical-align: top;\n",
       "    }\n",
       "\n",
       "    .dataframe thead th {\n",
       "        text-align: right;\n",
       "    }\n",
       "</style>\n",
       "<table border=\"1\" class=\"dataframe\">\n",
       "  <thead>\n",
       "    <tr style=\"text-align: right;\">\n",
       "      <th></th>\n",
       "      <th>Perf</th>\n",
       "      <th>Budget transfert</th>\n",
       "      <th>Joueurs formés club</th>\n",
       "      <th>Valeur club</th>\n",
       "      <th>Age équipe</th>\n",
       "      <th>Supporters</th>\n",
       "      <th>Prix équipe</th>\n",
       "    </tr>\n",
       "  </thead>\n",
       "  <tbody>\n",
       "    <tr>\n",
       "      <th>count</th>\n",
       "      <td>25.00000</td>\n",
       "      <td>25.000000</td>\n",
       "      <td>25.000000</td>\n",
       "      <td>25.000000</td>\n",
       "      <td>25.000000</td>\n",
       "      <td>25.000000</td>\n",
       "      <td>25.000000</td>\n",
       "    </tr>\n",
       "    <tr>\n",
       "      <th>mean</th>\n",
       "      <td>193.44000</td>\n",
       "      <td>542.880000</td>\n",
       "      <td>0.166400</td>\n",
       "      <td>642.400000</td>\n",
       "      <td>26.062600</td>\n",
       "      <td>0.782947</td>\n",
       "      <td>545.584560</td>\n",
       "    </tr>\n",
       "    <tr>\n",
       "      <th>std</th>\n",
       "      <td>62.31645</td>\n",
       "      <td>359.725743</td>\n",
       "      <td>0.101902</td>\n",
       "      <td>349.925111</td>\n",
       "      <td>1.245264</td>\n",
       "      <td>0.193850</td>\n",
       "      <td>283.367376</td>\n",
       "    </tr>\n",
       "    <tr>\n",
       "      <th>min</th>\n",
       "      <td>134.00000</td>\n",
       "      <td>97.000000</td>\n",
       "      <td>0.000000</td>\n",
       "      <td>52.000000</td>\n",
       "      <td>23.361667</td>\n",
       "      <td>0.090564</td>\n",
       "      <td>65.766000</td>\n",
       "    </tr>\n",
       "    <tr>\n",
       "      <th>25%</th>\n",
       "      <td>148.00000</td>\n",
       "      <td>286.000000</td>\n",
       "      <td>0.083000</td>\n",
       "      <td>333.000000</td>\n",
       "      <td>25.348333</td>\n",
       "      <td>0.713076</td>\n",
       "      <td>299.090000</td>\n",
       "    </tr>\n",
       "    <tr>\n",
       "      <th>50%</th>\n",
       "      <td>178.00000</td>\n",
       "      <td>409.000000</td>\n",
       "      <td>0.160000</td>\n",
       "      <td>688.000000</td>\n",
       "      <td>26.426667</td>\n",
       "      <td>0.770308</td>\n",
       "      <td>572.050000</td>\n",
       "    </tr>\n",
       "    <tr>\n",
       "      <th>75%</th>\n",
       "      <td>211.00000</td>\n",
       "      <td>722.000000</td>\n",
       "      <td>0.250000</td>\n",
       "      <td>889.000000</td>\n",
       "      <td>26.891667</td>\n",
       "      <td>0.930400</td>\n",
       "      <td>753.242000</td>\n",
       "    </tr>\n",
       "    <tr>\n",
       "      <th>max</th>\n",
       "      <td>380.00000</td>\n",
       "      <td>1350.000000</td>\n",
       "      <td>0.321000</td>\n",
       "      <td>1290.000000</td>\n",
       "      <td>28.788333</td>\n",
       "      <td>0.963210</td>\n",
       "      <td>966.036000</td>\n",
       "    </tr>\n",
       "  </tbody>\n",
       "</table>\n",
       "</div>"
      ],
      "text/plain": [
       "            Perf  Budget transfert  Joueurs formés club  Valeur club  \\\n",
       "count   25.00000         25.000000            25.000000    25.000000   \n",
       "mean   193.44000        542.880000             0.166400   642.400000   \n",
       "std     62.31645        359.725743             0.101902   349.925111   \n",
       "min    134.00000         97.000000             0.000000    52.000000   \n",
       "25%    148.00000        286.000000             0.083000   333.000000   \n",
       "50%    178.00000        409.000000             0.160000   688.000000   \n",
       "75%    211.00000        722.000000             0.250000   889.000000   \n",
       "max    380.00000       1350.000000             0.321000  1290.000000   \n",
       "\n",
       "       Age équipe  Supporters  Prix équipe  \n",
       "count   25.000000   25.000000    25.000000  \n",
       "mean    26.062600    0.782947   545.584560  \n",
       "std      1.245264    0.193850   283.367376  \n",
       "min     23.361667    0.090564    65.766000  \n",
       "25%     25.348333    0.713076   299.090000  \n",
       "50%     26.426667    0.770308   572.050000  \n",
       "75%     26.891667    0.930400   753.242000  \n",
       "max     28.788333    0.963210   966.036000  "
      ]
     },
     "execution_count": 16,
     "metadata": {},
     "output_type": "execute_result"
    }
   ],
   "source": [
    "GA.describe()\n",
    "#Ici, je sors les valeurs clés pour chacune de mes données. "
   ]
  },
  {
   "cell_type": "markdown",
   "metadata": {},
   "source": [
    "> ## Définition de la variable à prédire:"
   ]
  },
  {
   "cell_type": "code",
   "execution_count": 23,
   "metadata": {},
   "outputs": [],
   "source": [
    "GAnum = GA.iloc[:,1:8]"
   ]
  },
  {
   "cell_type": "code",
   "execution_count": 24,
   "metadata": {
    "scrolled": false
   },
   "outputs": [
    {
     "data": {
      "text/html": [
       "<div>\n",
       "<style scoped>\n",
       "    .dataframe tbody tr th:only-of-type {\n",
       "        vertical-align: middle;\n",
       "    }\n",
       "\n",
       "    .dataframe tbody tr th {\n",
       "        vertical-align: top;\n",
       "    }\n",
       "\n",
       "    .dataframe thead th {\n",
       "        text-align: right;\n",
       "    }\n",
       "</style>\n",
       "<table border=\"1\" class=\"dataframe\">\n",
       "  <thead>\n",
       "    <tr style=\"text-align: right;\">\n",
       "      <th></th>\n",
       "      <th>Perf</th>\n",
       "      <th>Budget transfert</th>\n",
       "      <th>Joueurs formés club</th>\n",
       "      <th>Valeur club</th>\n",
       "      <th>Age équipe</th>\n",
       "      <th>Supporters</th>\n",
       "      <th>Prix équipe</th>\n",
       "    </tr>\n",
       "  </thead>\n",
       "  <tbody>\n",
       "    <tr>\n",
       "      <th>0</th>\n",
       "      <td>380</td>\n",
       "      <td>956</td>\n",
       "      <td>0.076</td>\n",
       "      <td>1080</td>\n",
       "      <td>27.605000</td>\n",
       "      <td>0.731083</td>\n",
       "      <td>884.650</td>\n",
       "    </tr>\n",
       "    <tr>\n",
       "      <th>1</th>\n",
       "      <td>318</td>\n",
       "      <td>722</td>\n",
       "      <td>0.180</td>\n",
       "      <td>915</td>\n",
       "      <td>26.863333</td>\n",
       "      <td>0.952655</td>\n",
       "      <td>753.242</td>\n",
       "    </tr>\n",
       "    <tr>\n",
       "      <th>2</th>\n",
       "      <td>314</td>\n",
       "      <td>813</td>\n",
       "      <td>0.190</td>\n",
       "      <td>1060</td>\n",
       "      <td>27.258333</td>\n",
       "      <td>0.713076</td>\n",
       "      <td>966.036</td>\n",
       "    </tr>\n",
       "    <tr>\n",
       "      <th>3</th>\n",
       "      <td>236</td>\n",
       "      <td>409</td>\n",
       "      <td>0.130</td>\n",
       "      <td>863</td>\n",
       "      <td>26.426667</td>\n",
       "      <td>0.706702</td>\n",
       "      <td>749.860</td>\n",
       "    </tr>\n",
       "    <tr>\n",
       "      <th>4</th>\n",
       "      <td>225</td>\n",
       "      <td>765</td>\n",
       "      <td>0.307</td>\n",
       "      <td>845</td>\n",
       "      <td>26.438333</td>\n",
       "      <td>0.963210</td>\n",
       "      <td>863.146</td>\n",
       "    </tr>\n",
       "  </tbody>\n",
       "</table>\n",
       "</div>"
      ],
      "text/plain": [
       "   Perf  Budget transfert  Joueurs formés club  Valeur club  Age équipe  \\\n",
       "0   380               956                0.076         1080   27.605000   \n",
       "1   318               722                0.180          915   26.863333   \n",
       "2   314               813                0.190         1060   27.258333   \n",
       "3   236               409                0.130          863   26.426667   \n",
       "4   225               765                0.307          845   26.438333   \n",
       "\n",
       "   Supporters  Prix équipe  \n",
       "0    0.731083      884.650  \n",
       "1    0.952655      753.242  \n",
       "2    0.713076      966.036  \n",
       "3    0.706702      749.860  \n",
       "4    0.963210      863.146  "
      ]
     },
     "execution_count": 24,
     "metadata": {},
     "output_type": "execute_result"
    }
   ],
   "source": [
    "GAnum.head()"
   ]
  },
  {
   "cell_type": "code",
   "execution_count": 25,
   "metadata": {},
   "outputs": [],
   "source": [
    "#Ici, je standardise mon jeu de données.\n",
    "from sklearn.preprocessing import normalize\n",
    "\n",
    "GAnorm = normalize(GAnum)"
   ]
  },
  {
   "cell_type": "code",
   "execution_count": 26,
   "metadata": {},
   "outputs": [
    {
     "ename": "AttributeError",
     "evalue": "'numpy.ndarray' object has no attribute 'head'",
     "output_type": "error",
     "traceback": [
      "\u001b[1;31m---------------------------------------------------------------------------\u001b[0m",
      "\u001b[1;31mAttributeError\u001b[0m                            Traceback (most recent call last)",
      "\u001b[1;32m<ipython-input-26-4ee530fccf38>\u001b[0m in \u001b[0;36m<module>\u001b[1;34m\u001b[0m\n\u001b[1;32m----> 1\u001b[1;33m \u001b[0mGAnorm\u001b[0m\u001b[1;33m.\u001b[0m\u001b[0mhead\u001b[0m\u001b[1;33m(\u001b[0m\u001b[1;33m)\u001b[0m\u001b[1;33m\u001b[0m\u001b[1;33m\u001b[0m\u001b[0m\n\u001b[0m",
      "\u001b[1;31mAttributeError\u001b[0m: 'numpy.ndarray' object has no attribute 'head'"
     ]
    }
   ],
   "source": [
    "GAnorm.head()"
   ]
  },
  {
   "cell_type": "code",
   "execution_count": 29,
   "metadata": {
    "scrolled": true
   },
   "outputs": [
    {
     "data": {
      "text/html": [
       "<div>\n",
       "<style scoped>\n",
       "    .dataframe tbody tr th:only-of-type {\n",
       "        vertical-align: middle;\n",
       "    }\n",
       "\n",
       "    .dataframe tbody tr th {\n",
       "        vertical-align: top;\n",
       "    }\n",
       "\n",
       "    .dataframe thead th {\n",
       "        text-align: right;\n",
       "    }\n",
       "</style>\n",
       "<table border=\"1\" class=\"dataframe\">\n",
       "  <thead>\n",
       "    <tr style=\"text-align: right;\">\n",
       "      <th></th>\n",
       "      <th>Perf</th>\n",
       "      <th>Budget transfert</th>\n",
       "      <th>Joueurs formés club</th>\n",
       "      <th>Valeur club</th>\n",
       "      <th>Age équipe</th>\n",
       "      <th>Supporters</th>\n",
       "      <th>Prix équipe</th>\n",
       "    </tr>\n",
       "  </thead>\n",
       "  <tbody>\n",
       "    <tr>\n",
       "      <th>0</th>\n",
       "      <td>0.219097</td>\n",
       "      <td>0.551203</td>\n",
       "      <td>0.000044</td>\n",
       "      <td>0.622698</td>\n",
       "      <td>0.015916</td>\n",
       "      <td>0.000422</td>\n",
       "      <td>0.510064</td>\n",
       "    </tr>\n",
       "    <tr>\n",
       "      <th>1</th>\n",
       "      <td>0.223317</td>\n",
       "      <td>0.507028</td>\n",
       "      <td>0.000126</td>\n",
       "      <td>0.642564</td>\n",
       "      <td>0.018865</td>\n",
       "      <td>0.000669</td>\n",
       "      <td>0.528968</td>\n",
       "    </tr>\n",
       "    <tr>\n",
       "      <th>2</th>\n",
       "      <td>0.187079</td>\n",
       "      <td>0.484381</td>\n",
       "      <td>0.000113</td>\n",
       "      <td>0.631542</td>\n",
       "      <td>0.016240</td>\n",
       "      <td>0.000425</td>\n",
       "      <td>0.575559</td>\n",
       "    </tr>\n",
       "    <tr>\n",
       "      <th>3</th>\n",
       "      <td>0.190749</td>\n",
       "      <td>0.330578</td>\n",
       "      <td>0.000105</td>\n",
       "      <td>0.697527</td>\n",
       "      <td>0.021360</td>\n",
       "      <td>0.000571</td>\n",
       "      <td>0.606080</td>\n",
       "    </tr>\n",
       "    <tr>\n",
       "      <th>4</th>\n",
       "      <td>0.155428</td>\n",
       "      <td>0.528455</td>\n",
       "      <td>0.000212</td>\n",
       "      <td>0.583718</td>\n",
       "      <td>0.018263</td>\n",
       "      <td>0.000665</td>\n",
       "      <td>0.596253</td>\n",
       "    </tr>\n",
       "  </tbody>\n",
       "</table>\n",
       "</div>"
      ],
      "text/plain": [
       "       Perf  Budget transfert  Joueurs formés club  Valeur club  Age équipe  \\\n",
       "0  0.219097          0.551203             0.000044     0.622698    0.015916   \n",
       "1  0.223317          0.507028             0.000126     0.642564    0.018865   \n",
       "2  0.187079          0.484381             0.000113     0.631542    0.016240   \n",
       "3  0.190749          0.330578             0.000105     0.697527    0.021360   \n",
       "4  0.155428          0.528455             0.000212     0.583718    0.018263   \n",
       "\n",
       "   Supporters  Prix équipe  \n",
       "0    0.000422     0.510064  \n",
       "1    0.000669     0.528968  \n",
       "2    0.000425     0.575559  \n",
       "3    0.000571     0.606080  \n",
       "4    0.000665     0.596253  "
      ]
     },
     "execution_count": 29,
     "metadata": {},
     "output_type": "execute_result"
    }
   ],
   "source": [
    "GAnorm = pd.DataFrame(data=GAnorm,columns = ['Perf', 'Budget transfert', 'Joueurs formés club', 'Valeur club', 'Age équipe', 'Supporters', 'Prix équipe'])\n",
    "GAnorm.head()"
   ]
  },
  {
   "cell_type": "code",
   "execution_count": 31,
   "metadata": {
    "scrolled": true
   },
   "outputs": [
    {
     "data": {
      "text/html": [
       "<div>\n",
       "<style scoped>\n",
       "    .dataframe tbody tr th:only-of-type {\n",
       "        vertical-align: middle;\n",
       "    }\n",
       "\n",
       "    .dataframe tbody tr th {\n",
       "        vertical-align: top;\n",
       "    }\n",
       "\n",
       "    .dataframe thead th {\n",
       "        text-align: right;\n",
       "    }\n",
       "</style>\n",
       "<table border=\"1\" class=\"dataframe\">\n",
       "  <thead>\n",
       "    <tr style=\"text-align: right;\">\n",
       "      <th></th>\n",
       "      <th>Perf</th>\n",
       "      <th>Budget transfert</th>\n",
       "      <th>Joueurs formés club</th>\n",
       "      <th>Valeur club</th>\n",
       "      <th>Age équipe</th>\n",
       "      <th>Supporters</th>\n",
       "      <th>Prix équipe</th>\n",
       "    </tr>\n",
       "  </thead>\n",
       "  <tbody>\n",
       "    <tr>\n",
       "      <th>count</th>\n",
       "      <td>25.000000</td>\n",
       "      <td>25.000000</td>\n",
       "      <td>25.000000</td>\n",
       "      <td>25.000000</td>\n",
       "      <td>25.000000</td>\n",
       "      <td>25.000000</td>\n",
       "      <td>25.000000</td>\n",
       "    </tr>\n",
       "    <tr>\n",
       "      <th>mean</th>\n",
       "      <td>0.235703</td>\n",
       "      <td>0.512977</td>\n",
       "      <td>0.000262</td>\n",
       "      <td>0.597434</td>\n",
       "      <td>0.035127</td>\n",
       "      <td>0.000974</td>\n",
       "      <td>0.515917</td>\n",
       "    </tr>\n",
       "    <tr>\n",
       "      <th>std</th>\n",
       "      <td>0.137024</td>\n",
       "      <td>0.140356</td>\n",
       "      <td>0.000354</td>\n",
       "      <td>0.118382</td>\n",
       "      <td>0.025549</td>\n",
       "      <td>0.000653</td>\n",
       "      <td>0.078720</td>\n",
       "    </tr>\n",
       "    <tr>\n",
       "      <th>min</th>\n",
       "      <td>0.090556</td>\n",
       "      <td>0.316390</td>\n",
       "      <td>0.000000</td>\n",
       "      <td>0.275869</td>\n",
       "      <td>0.013062</td>\n",
       "      <td>0.000260</td>\n",
       "      <td>0.326944</td>\n",
       "    </tr>\n",
       "    <tr>\n",
       "      <th>25%</th>\n",
       "      <td>0.159815</td>\n",
       "      <td>0.410511</td>\n",
       "      <td>0.000075</td>\n",
       "      <td>0.545205</td>\n",
       "      <td>0.018263</td>\n",
       "      <td>0.000568</td>\n",
       "      <td>0.463927</td>\n",
       "    </tr>\n",
       "    <tr>\n",
       "      <th>50%</th>\n",
       "      <td>0.190749</td>\n",
       "      <td>0.514601</td>\n",
       "      <td>0.000163</td>\n",
       "      <td>0.629111</td>\n",
       "      <td>0.027056</td>\n",
       "      <td>0.000725</td>\n",
       "      <td>0.549190</td>\n",
       "    </tr>\n",
       "    <tr>\n",
       "      <th>75%</th>\n",
       "      <td>0.253260</td>\n",
       "      <td>0.554989</td>\n",
       "      <td>0.000275</td>\n",
       "      <td>0.672546</td>\n",
       "      <td>0.042068</td>\n",
       "      <td>0.001363</td>\n",
       "      <td>0.569727</td>\n",
       "    </tr>\n",
       "    <tr>\n",
       "      <th>max</th>\n",
       "      <td>0.721503</td>\n",
       "      <td>0.837838</td>\n",
       "      <td>0.001703</td>\n",
       "      <td>0.748546</td>\n",
       "      <td>0.129499</td>\n",
       "      <td>0.003315</td>\n",
       "      <td>0.610188</td>\n",
       "    </tr>\n",
       "  </tbody>\n",
       "</table>\n",
       "</div>"
      ],
      "text/plain": [
       "            Perf  Budget transfert  Joueurs formés club  Valeur club  \\\n",
       "count  25.000000         25.000000            25.000000    25.000000   \n",
       "mean    0.235703          0.512977             0.000262     0.597434   \n",
       "std     0.137024          0.140356             0.000354     0.118382   \n",
       "min     0.090556          0.316390             0.000000     0.275869   \n",
       "25%     0.159815          0.410511             0.000075     0.545205   \n",
       "50%     0.190749          0.514601             0.000163     0.629111   \n",
       "75%     0.253260          0.554989             0.000275     0.672546   \n",
       "max     0.721503          0.837838             0.001703     0.748546   \n",
       "\n",
       "       Age équipe  Supporters  Prix équipe  \n",
       "count   25.000000   25.000000    25.000000  \n",
       "mean     0.035127    0.000974     0.515917  \n",
       "std      0.025549    0.000653     0.078720  \n",
       "min      0.013062    0.000260     0.326944  \n",
       "25%      0.018263    0.000568     0.463927  \n",
       "50%      0.027056    0.000725     0.549190  \n",
       "75%      0.042068    0.001363     0.569727  \n",
       "max      0.129499    0.003315     0.610188  "
      ]
     },
     "execution_count": 31,
     "metadata": {},
     "output_type": "execute_result"
    }
   ],
   "source": [
    "GAnorm.describe()"
   ]
  },
  {
   "cell_type": "code",
   "execution_count": 33,
   "metadata": {},
   "outputs": [
    {
     "data": {
      "text/html": [
       "<div>\n",
       "<style scoped>\n",
       "    .dataframe tbody tr th:only-of-type {\n",
       "        vertical-align: middle;\n",
       "    }\n",
       "\n",
       "    .dataframe tbody tr th {\n",
       "        vertical-align: top;\n",
       "    }\n",
       "\n",
       "    .dataframe thead th {\n",
       "        text-align: right;\n",
       "    }\n",
       "</style>\n",
       "<table border=\"1\" class=\"dataframe\">\n",
       "  <thead>\n",
       "    <tr style=\"text-align: right;\">\n",
       "      <th></th>\n",
       "      <th>Budget transfert</th>\n",
       "      <th>Joueurs formés club</th>\n",
       "      <th>Valeur club</th>\n",
       "      <th>Age équipe</th>\n",
       "      <th>Supporters</th>\n",
       "      <th>Prix équipe</th>\n",
       "    </tr>\n",
       "  </thead>\n",
       "  <tbody>\n",
       "    <tr>\n",
       "      <th>0</th>\n",
       "      <td>0.551203</td>\n",
       "      <td>0.000044</td>\n",
       "      <td>0.622698</td>\n",
       "      <td>0.015916</td>\n",
       "      <td>0.000422</td>\n",
       "      <td>0.510064</td>\n",
       "    </tr>\n",
       "    <tr>\n",
       "      <th>1</th>\n",
       "      <td>0.507028</td>\n",
       "      <td>0.000126</td>\n",
       "      <td>0.642564</td>\n",
       "      <td>0.018865</td>\n",
       "      <td>0.000669</td>\n",
       "      <td>0.528968</td>\n",
       "    </tr>\n",
       "    <tr>\n",
       "      <th>2</th>\n",
       "      <td>0.484381</td>\n",
       "      <td>0.000113</td>\n",
       "      <td>0.631542</td>\n",
       "      <td>0.016240</td>\n",
       "      <td>0.000425</td>\n",
       "      <td>0.575559</td>\n",
       "    </tr>\n",
       "    <tr>\n",
       "      <th>3</th>\n",
       "      <td>0.330578</td>\n",
       "      <td>0.000105</td>\n",
       "      <td>0.697527</td>\n",
       "      <td>0.021360</td>\n",
       "      <td>0.000571</td>\n",
       "      <td>0.606080</td>\n",
       "    </tr>\n",
       "    <tr>\n",
       "      <th>4</th>\n",
       "      <td>0.528455</td>\n",
       "      <td>0.000212</td>\n",
       "      <td>0.583718</td>\n",
       "      <td>0.018263</td>\n",
       "      <td>0.000665</td>\n",
       "      <td>0.596253</td>\n",
       "    </tr>\n",
       "  </tbody>\n",
       "</table>\n",
       "</div>"
      ],
      "text/plain": [
       "   Budget transfert  Joueurs formés club  Valeur club  Age équipe  Supporters  \\\n",
       "0          0.551203             0.000044     0.622698    0.015916    0.000422   \n",
       "1          0.507028             0.000126     0.642564    0.018865    0.000669   \n",
       "2          0.484381             0.000113     0.631542    0.016240    0.000425   \n",
       "3          0.330578             0.000105     0.697527    0.021360    0.000571   \n",
       "4          0.528455             0.000212     0.583718    0.018263    0.000665   \n",
       "\n",
       "   Prix équipe  \n",
       "0     0.510064  \n",
       "1     0.528968  \n",
       "2     0.575559  \n",
       "3     0.606080  \n",
       "4     0.596253  "
      ]
     },
     "execution_count": 33,
     "metadata": {},
     "output_type": "execute_result"
    }
   ],
   "source": [
    "X = GAnorm.iloc[:,1:8]\n",
    "X.head()"
   ]
  },
  {
   "cell_type": "code",
   "execution_count": 34,
   "metadata": {
    "scrolled": true
   },
   "outputs": [
    {
     "data": {
      "text/plain": [
       "0    0.219097\n",
       "1    0.223317\n",
       "2    0.187079\n",
       "3    0.190749\n",
       "4    0.155428\n",
       "Name: Perf, dtype: float64"
      ]
     },
     "execution_count": 34,
     "metadata": {},
     "output_type": "execute_result"
    }
   ],
   "source": [
    "Y=GAnorm.Perf\n",
    "Y.head()"
   ]
  },
  {
   "cell_type": "markdown",
   "metadata": {},
   "source": [
    "> ## Exploration des donnees ou EDA: Exploratory Data Analysis:"
   ]
  },
  {
   "cell_type": "code",
   "execution_count": 35,
   "metadata": {
    "scrolled": false
   },
   "outputs": [
    {
     "data": {
      "text/plain": [
       "<seaborn.axisgrid.PairGrid at 0x10c11703438>"
      ]
     },
     "execution_count": 35,
     "metadata": {},
     "output_type": "execute_result"
    },
    {
     "data": {
      "image/png": "[encoded data removed]",
      "text/plain": [
       "<Figure size 1260x1260 with 56 Axes>"
      ]
     },
     "metadata": {
      "needs_background": "light"
     },
     "output_type": "display_data"
    }
   ],
   "source": [
    "sns.pairplot(GAnorm, kind=\"reg\") #Observons la linearite ou pas de toutes nos variables les unes comparees aux autres."
   ]
  },
  {
   "cell_type": "code",
   "execution_count": 36,
   "metadata": {},
   "outputs": [
    {
     "data": {
      "text/html": [
       "<div>\n",
       "<style scoped>\n",
       "    .dataframe tbody tr th:only-of-type {\n",
       "        vertical-align: middle;\n",
       "    }\n",
       "\n",
       "    .dataframe tbody tr th {\n",
       "        vertical-align: top;\n",
       "    }\n",
       "\n",
       "    .dataframe thead th {\n",
       "        text-align: right;\n",
       "    }\n",
       "</style>\n",
       "<table border=\"1\" class=\"dataframe\">\n",
       "  <thead>\n",
       "    <tr style=\"text-align: right;\">\n",
       "      <th></th>\n",
       "      <th>Perf</th>\n",
       "      <th>Budget transfert</th>\n",
       "      <th>Joueurs formés club</th>\n",
       "      <th>Valeur club</th>\n",
       "      <th>Age équipe</th>\n",
       "      <th>Supporters</th>\n",
       "      <th>Prix équipe</th>\n",
       "    </tr>\n",
       "  </thead>\n",
       "  <tbody>\n",
       "    <tr>\n",
       "      <th>count</th>\n",
       "      <td>25.000000</td>\n",
       "      <td>25.000000</td>\n",
       "      <td>25.000000</td>\n",
       "      <td>25.000000</td>\n",
       "      <td>25.000000</td>\n",
       "      <td>25.000000</td>\n",
       "      <td>25.000000</td>\n",
       "    </tr>\n",
       "    <tr>\n",
       "      <th>mean</th>\n",
       "      <td>0.235703</td>\n",
       "      <td>0.512977</td>\n",
       "      <td>0.000262</td>\n",
       "      <td>0.597434</td>\n",
       "      <td>0.035127</td>\n",
       "      <td>0.000974</td>\n",
       "      <td>0.515917</td>\n",
       "    </tr>\n",
       "    <tr>\n",
       "      <th>std</th>\n",
       "      <td>0.137024</td>\n",
       "      <td>0.140356</td>\n",
       "      <td>0.000354</td>\n",
       "      <td>0.118382</td>\n",
       "      <td>0.025549</td>\n",
       "      <td>0.000653</td>\n",
       "      <td>0.078720</td>\n",
       "    </tr>\n",
       "    <tr>\n",
       "      <th>min</th>\n",
       "      <td>0.090556</td>\n",
       "      <td>0.316390</td>\n",
       "      <td>0.000000</td>\n",
       "      <td>0.275869</td>\n",
       "      <td>0.013062</td>\n",
       "      <td>0.000260</td>\n",
       "      <td>0.326944</td>\n",
       "    </tr>\n",
       "    <tr>\n",
       "      <th>25%</th>\n",
       "      <td>0.159815</td>\n",
       "      <td>0.410511</td>\n",
       "      <td>0.000075</td>\n",
       "      <td>0.545205</td>\n",
       "      <td>0.018263</td>\n",
       "      <td>0.000568</td>\n",
       "      <td>0.463927</td>\n",
       "    </tr>\n",
       "    <tr>\n",
       "      <th>50%</th>\n",
       "      <td>0.190749</td>\n",
       "      <td>0.514601</td>\n",
       "      <td>0.000163</td>\n",
       "      <td>0.629111</td>\n",
       "      <td>0.027056</td>\n",
       "      <td>0.000725</td>\n",
       "      <td>0.549190</td>\n",
       "    </tr>\n",
       "    <tr>\n",
       "      <th>75%</th>\n",
       "      <td>0.253260</td>\n",
       "      <td>0.554989</td>\n",
       "      <td>0.000275</td>\n",
       "      <td>0.672546</td>\n",
       "      <td>0.042068</td>\n",
       "      <td>0.001363</td>\n",
       "      <td>0.569727</td>\n",
       "    </tr>\n",
       "    <tr>\n",
       "      <th>max</th>\n",
       "      <td>0.721503</td>\n",
       "      <td>0.837838</td>\n",
       "      <td>0.001703</td>\n",
       "      <td>0.748546</td>\n",
       "      <td>0.129499</td>\n",
       "      <td>0.003315</td>\n",
       "      <td>0.610188</td>\n",
       "    </tr>\n",
       "  </tbody>\n",
       "</table>\n",
       "</div>"
      ],
      "text/plain": [
       "            Perf  Budget transfert  Joueurs formés club  Valeur club  \\\n",
       "count  25.000000         25.000000            25.000000    25.000000   \n",
       "mean    0.235703          0.512977             0.000262     0.597434   \n",
       "std     0.137024          0.140356             0.000354     0.118382   \n",
       "min     0.090556          0.316390             0.000000     0.275869   \n",
       "25%     0.159815          0.410511             0.000075     0.545205   \n",
       "50%     0.190749          0.514601             0.000163     0.629111   \n",
       "75%     0.253260          0.554989             0.000275     0.672546   \n",
       "max     0.721503          0.837838             0.001703     0.748546   \n",
       "\n",
       "       Age équipe  Supporters  Prix équipe  \n",
       "count   25.000000   25.000000    25.000000  \n",
       "mean     0.035127    0.000974     0.515917  \n",
       "std      0.025549    0.000653     0.078720  \n",
       "min      0.013062    0.000260     0.326944  \n",
       "25%      0.018263    0.000568     0.463927  \n",
       "50%      0.027056    0.000725     0.549190  \n",
       "75%      0.042068    0.001363     0.569727  \n",
       "max      0.129499    0.003315     0.610188  "
      ]
     },
     "execution_count": 36,
     "metadata": {},
     "output_type": "execute_result"
    }
   ],
   "source": [
    "GAnorm.describe()"
   ]
  },
  {
   "cell_type": "markdown",
   "metadata": {},
   "source": [
    "> ## Demarrage de la phase de test:"
   ]
  },
  {
   "cell_type": "code",
   "execution_count": 37,
   "metadata": {},
   "outputs": [],
   "source": [
    "from sklearn.model_selection import train_test_split "
   ]
  },
  {
   "cell_type": "markdown",
   "metadata": {},
   "source": [
    "> ## **C'est la ou la partie learning de Machine Learning rentre en scene!**\n",
    "\n",
    "Remarquez aussi **split**, cela signifie que l'on va diviser notre jeu de donnee en deux: une partie pour la premiere phase qui correspond a la phase d'**l'entrainement** de la machine et l'autre partie pour **tester** si ce que la machine aura appris est fiable."
   ]
  },
  {
   "cell_type": "code",
   "execution_count": 49,
   "metadata": {},
   "outputs": [],
   "source": [
    "X1_train, X1_test, Y1_train, Y1_test = train_test_split(X, Y, test_size=0.2, random_state=42) "
   ]
  },
  {
   "cell_type": "code",
   "execution_count": 51,
   "metadata": {
    "scrolled": true
   },
   "outputs": [
    {
     "name": "stdout",
     "output_type": "stream",
     "text": [
      "(20, 6)\n",
      "(5, 6)\n",
      "(20,)\n",
      "(5,)\n"
     ]
    }
   ],
   "source": [
    "print (X1_train.shape)\n",
    "print (X1_test.shape)\n",
    "print (Y1_train.shape)\n",
    "print (Y1_test.shape)"
   ]
  },
  {
   "cell_type": "markdown",
   "metadata": {},
   "source": [
    "> ## Installation du modele de regression lineaire sur le jeu de donnees:"
   ]
  },
  {
   "cell_type": "code",
   "execution_count": 52,
   "metadata": {},
   "outputs": [
    {
     "data": {
      "text/plain": [
       "LinearRegression(copy_X=True, fit_intercept=True, n_jobs=1, normalize=False)"
      ]
     },
     "execution_count": 52,
     "metadata": {},
     "output_type": "execute_result"
    }
   ],
   "source": [
    "# On cree une instance de notre modele\n",
    "lm1 = linear_model.LinearRegression()\n",
    "\n",
    "#On fit/installe notre modele sur notre jeu de donnees.\n",
    "lm1.fit(X1_train, Y1_train)"
   ]
  },
  {
   "cell_type": "code",
   "execution_count": 53,
   "metadata": {},
   "outputs": [
    {
     "name": "stdout",
     "output_type": "stream",
     "text": [
      "[ -0.14641961  34.27008167  -0.39160382   4.47010295 -20.81617196\n",
      "   0.22375304]\n"
     ]
    }
   ],
   "source": [
    "print (lm1.coef_)#Interpreter la signification des coefficients\n",
    "# une augmentation d'un point d'indice du prix de l'équipe se \n",
    "# traduit par une augmentation de 0,95 de l'indice de performance."
   ]
  },
  {
   "cell_type": "code",
   "execution_count": 54,
   "metadata": {},
   "outputs": [
    {
     "name": "stdout",
     "output_type": "stream",
     "text": [
      "0.27819336076575385\n"
     ]
    }
   ],
   "source": [
    "print (lm1.intercept_) \n",
    "# sans aucune influence des facteurs budget transfert, valeur club etc... l'indice de performance est de -0,18."
   ]
  },
  {
   "cell_type": "code",
   "execution_count": 55,
   "metadata": {},
   "outputs": [
    {
     "name": "stdout",
     "output_type": "stream",
     "text": [
      "[0.33092283 0.15310238 0.13163869 0.74110478 0.30751954]\n"
     ]
    }
   ],
   "source": [
    "pred1 = lm1.predict(X1_test)\n",
    "#Ici, on sort les 10 premieres valeurs predites par notre learning post apprentissage...;;;;;;;;;;;;;;;;;;;;;;;;;;;;;;;;;\n",
    "print(lm1.predict(X_test[0:10]))"
   ]
  },
  {
   "cell_type": "markdown",
   "metadata": {},
   "source": [
    "> ## Evaluation du modele:"
   ]
  },
  {
   "cell_type": "markdown",
   "metadata": {},
   "source": [
    "> ### 1) Calcul de l'erreur du modele:"
   ]
  },
  {
   "cell_type": "code",
   "execution_count": 56,
   "metadata": {
    "scrolled": true
   },
   "outputs": [
    {
     "name": "stdout",
     "output_type": "stream",
     "text": [
      "0.05403563018163695\n"
     ]
    }
   ],
   "source": [
    "print (np.sqrt(mean_squared_error(Y1_test, pred1)))"
   ]
  },
  {
   "cell_type": "markdown",
   "metadata": {},
   "source": [
    "> ### 2) Calcul du score du modele:"
   ]
  },
  {
   "cell_type": "code",
   "execution_count": 57,
   "metadata": {},
   "outputs": [
    {
     "name": "stdout",
     "output_type": "stream",
     "text": [
      "0.9303230236216894\n"
     ]
    }
   ],
   "source": [
    "score1=lm1.score(X1_test,Y1_test)\n",
    "print (score1)\n",
    "## Le R2 est de 34%"
   ]
  },
  {
   "cell_type": "markdown",
   "metadata": {},
   "source": [
    "> ### 3) Calcul de l'erreur du modele de base:"
   ]
  },
  {
   "cell_type": "code",
   "execution_count": 58,
   "metadata": {},
   "outputs": [
    {
     "data": {
      "text/plain": [
       "0.3600595197597782"
      ]
     },
     "execution_count": 58,
     "metadata": {},
     "output_type": "execute_result"
    }
   ],
   "source": [
    "#baseline prediction\n",
    "#Ici, le modele de base/notre benchmark est le modele qui va predire que toute nouvelle observation la moyenne \n",
    "baseline=np.mean(Y1_test)\n",
    "baseline"
   ]
  },
  {
   "cell_type": "code",
   "execution_count": 59,
   "metadata": {
    "scrolled": true
   },
   "outputs": [
    {
     "name": "stdout",
     "output_type": "stream",
     "text": [
      "0.2047083569790138\n"
     ]
    }
   ],
   "source": [
    "baseline_pred=np.empty(len(Y1_test))# cree un nouveau tableau\n",
    "baseline_pred.fill(baseline) #rempli avec predictions\n",
    "print(np.sqrt(mean_squared_error(Y_test,baseline_pred)))\n",
    "## Correspond à la marge d'erreur du modèle"
   ]
  },
  {
   "cell_type": "code",
   "execution_count": 60,
   "metadata": {},
   "outputs": [
    {
     "name": "stdout",
     "output_type": "stream",
     "text": [
      "8     0.380809\n",
      "16    0.118017\n",
      "0     0.219097\n",
      "23    0.721503\n",
      "11    0.360871\n",
      "Name: Perf, dtype: float64 [0.36005952 0.36005952 0.36005952 0.36005952 0.36005952]\n"
     ]
    }
   ],
   "source": [
    "print(Y1_test, baseline_pred)\n",
    "#Ici, on sort les valeurs predies versus la moyenne"
   ]
  },
  {
   "cell_type": "markdown",
   "metadata": {},
   "source": [
    "### > Interpretation ###"
   ]
  },
  {
   "cell_type": "code",
   "execution_count": 62,
   "metadata": {},
   "outputs": [],
   "source": [
    "X2_train, X2_test, Y2_train, Y2_test = train_test_split(X, Y, test_size=0.5, random_state=42) "
   ]
  },
  {
   "cell_type": "code",
   "execution_count": 63,
   "metadata": {},
   "outputs": [
    {
     "name": "stdout",
     "output_type": "stream",
     "text": [
      "(12, 6)\n",
      "(13, 6)\n",
      "(12,)\n",
      "(13,)\n"
     ]
    }
   ],
   "source": [
    "print (X2_train.shape)\n",
    "print (X2_test.shape)\n",
    "print (Y2_train.shape)\n",
    "print (Y2_test.shape)"
   ]
  },
  {
   "cell_type": "code",
   "execution_count": 64,
   "metadata": {},
   "outputs": [
    {
     "data": {
      "text/plain": [
       "LinearRegression(copy_X=True, fit_intercept=True, n_jobs=1, normalize=False)"
      ]
     },
     "execution_count": 64,
     "metadata": {},
     "output_type": "execute_result"
    }
   ],
   "source": [
    "# On cree une instance de notre modele\n",
    "lm2 = linear_model.LinearRegression()\n",
    "\n",
    "#On fit/installe notre modele sur notre jeu de donnees.\n",
    "lm2.fit(X2_train, Y2_train)"
   ]
  },
  {
   "cell_type": "code",
   "execution_count": 65,
   "metadata": {},
   "outputs": [
    {
     "name": "stdout",
     "output_type": "stream",
     "text": [
      "[-3.14704112e-01  7.36909889e+01 -5.40183321e-01  3.40668557e+00\n",
      "  3.63768315e+00  1.37214976e-02]\n"
     ]
    }
   ],
   "source": [
    "print (lm2.coef_)#Interpreter la signification des coefficients\n",
    "# une augmentation d'un point d'indice du prix de l'équipe se \n",
    "# traduit par une augmentation de 0,95 de l'indice de performance."
   ]
  },
  {
   "cell_type": "code",
   "execution_count": 66,
   "metadata": {},
   "outputs": [
    {
     "name": "stdout",
     "output_type": "stream",
     "text": [
      "0.5552215538439336\n"
     ]
    }
   ],
   "source": [
    "print (lm2.intercept_) \n",
    "# sans aucune influence des facteurs budget transfert, valeur club etc... l'indice de performance est de -0,18."
   ]
  },
  {
   "cell_type": "code",
   "execution_count": 70,
   "metadata": {},
   "outputs": [
    {
     "name": "stdout",
     "output_type": "stream",
     "text": [
      "[0.31732565 0.1307326  0.11136784 0.82775793 0.31913839 0.07838331\n",
      " 0.27772921 0.1318292  0.17622302 0.14284007]\n"
     ]
    }
   ],
   "source": [
    "pred2 = lm2.predict(X2_test)\n",
    "#Ici, on sort les 10 premieres valeurs predites par notre learning post apprentissage...;;;;;;;;;;;;;;;;;;;;;;;;;;;;;;;;;\n",
    "print(lm2.predict(X2_test[0:10]))"
   ]
  },
  {
   "cell_type": "code",
   "execution_count": 68,
   "metadata": {},
   "outputs": [
    {
     "name": "stdout",
     "output_type": "stream",
     "text": [
      "0.05877056319779658\n"
     ]
    }
   ],
   "source": [
    "print (np.sqrt(mean_squared_error(Y2_test, pred2)))"
   ]
  },
  {
   "cell_type": "code",
   "execution_count": 71,
   "metadata": {},
   "outputs": [
    {
     "name": "stdout",
     "output_type": "stream",
     "text": [
      "0.8734295558943971\n"
     ]
    }
   ],
   "source": [
    "score2=lm2.score(X2_test,Y2_test)\n",
    "print (score2)\n",
    "## Le R2 est de 34%"
   ]
  },
  {
   "cell_type": "code",
   "execution_count": null,
   "metadata": {},
   "outputs": [],
   "source": []
  }
 ],
 "metadata": {
  "kernelspec": {
   "display_name": "Python 3",
   "language": "python",
   "name": "python3"
  },
  "language_info": {
   "codemirror_mode": {
    "name": "ipython",
    "version": 3
   },
   "file_extension": ".py",
   "mimetype": "text/x-python",
   "name": "python",
   "nbconvert_exporter": "python",
   "pygments_lexer": "ipython3",
   "version": "3.6.9"
  }
 },
 "nbformat": 4,
 "nbformat_minor": 2
}
